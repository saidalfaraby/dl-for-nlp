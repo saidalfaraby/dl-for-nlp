{
  "nbformat": 4,
  "nbformat_minor": 0,
  "metadata": {
    "colab": {
      "name": "Deep Learning for NLP.ipynb",
      "provenance": [],
      "collapsed_sections": [
        "S17mlniR-cS1",
        "GlwqMD4TtSfz",
        "Rpw2aH1dRUwq",
        "3hdUQZ92tc4D",
        "YDhJ8JcFvF4J",
        "3pfNJKstwvjR",
        "w0Asl9BBG0hE"
      ],
      "toc_visible": true,
      "machine_shape": "hm"
    },
    "kernelspec": {
      "name": "python3",
      "display_name": "Python 3"
    },
    "accelerator": "GPU"
  },
  "cells": [
    {
      "cell_type": "markdown",
      "metadata": {
        "id": "_jSXkbKEPhre",
        "colab_type": "text"
      },
      "source": [
        "# Deep Learning for NLP"
      ]
    },
    {
      "cell_type": "markdown",
      "metadata": {
        "id": "2g3cWMBnHMvG",
        "colab_type": "text"
      },
      "source": [
        "Di tutorial ini kita akan mencoba mengimplementasikan beberapa model deep learning untuk pemrosesan teks.  \n",
        "  \n",
        "Model yang digunakan:\n",
        "- Word2Vec\n",
        "- LSTM\n",
        "- BiLSTM\n",
        "- CNN\n",
        "- BERT\n",
        "\n",
        "Task NLP yang dicoba adalah:\n",
        "- Text Classification\n",
        "- Part of Speech Tagging\n",
        "\n",
        "Library yang digunakan:\n",
        "- Pandas\n",
        "- NLTK\n",
        "- Spacy\n",
        "- Gensim\n",
        "- Tensorflow\n",
        "- Keras\n",
        "- Matplotlib\n",
        "- Transformers\n",
        "- Sklearn\n",
        "- Pytorch"
      ]
    },
    {
      "cell_type": "markdown",
      "metadata": {
        "id": "J6pOXM1yEWuv",
        "colab_type": "text"
      },
      "source": [
        "## Download dan Preprocess Data"
      ]
    },
    {
      "cell_type": "markdown",
      "metadata": {
        "id": "94ezOFUz4aZM",
        "colab_type": "text"
      },
      "source": [
        "Silakan download file di bawah ini terlebih dahulu. Ukuran sekitar 800MB."
      ]
    },
    {
      "cell_type": "code",
      "metadata": {
        "id": "YBv6dtbk4GJF",
        "colab_type": "code",
        "colab": {}
      },
      "source": [
        "!wget http://nlp.stanford.edu/data/glove.6B.zip\n",
        "!unzip glove*.zip"
      ],
      "execution_count": 0,
      "outputs": []
    },
    {
      "cell_type": "markdown",
      "metadata": {
        "id": "tuQb6avwGCzr",
        "colab_type": "text"
      },
      "source": [
        "Import Library Untuk Preproses Data"
      ]
    },
    {
      "cell_type": "code",
      "metadata": {
        "id": "9q02gtgKGHEv",
        "colab_type": "code",
        "colab": {}
      },
      "source": [
        "import nltk\n",
        "import re, string \n",
        "import pandas as pd \n",
        "from collections import defaultdict\n",
        "import spacy\n",
        "from nltk.corpus import stopwords"
      ],
      "execution_count": 0,
      "outputs": []
    },
    {
      "cell_type": "markdown",
      "metadata": {
        "id": "zJFPZtru46dt",
        "colab_type": "text"
      },
      "source": [
        "Download stopwords yang disediakan oleh NLTK. "
      ]
    },
    {
      "cell_type": "code",
      "metadata": {
        "id": "dTfxIPf0Elnv",
        "colab_type": "code",
        "outputId": "ea7be4a5-f5e8-4af5-c9a8-884f2c122269",
        "colab": {
          "base_uri": "https://localhost:8080/",
          "height": 69
        }
      },
      "source": [
        "nltk.download('stopwords')"
      ],
      "execution_count": 0,
      "outputs": [
        {
          "output_type": "stream",
          "text": [
            "[nltk_data] Downloading package stopwords to /root/nltk_data...\n",
            "[nltk_data]   Unzipping corpora/stopwords.zip.\n"
          ],
          "name": "stdout"
        },
        {
          "output_type": "execute_result",
          "data": {
            "text/plain": [
              "True"
            ]
          },
          "metadata": {
            "tags": []
          },
          "execution_count": 2
        }
      ]
    },
    {
      "cell_type": "markdown",
      "metadata": {
        "id": "tfT0Sex_6CaF",
        "colab_type": "text"
      },
      "source": [
        "Saat ini tersedia stopwords untuk 23 bahasa (mungkin bertambah)."
      ]
    },
    {
      "cell_type": "code",
      "metadata": {
        "id": "VIPqLC2r5xct",
        "colab_type": "code",
        "outputId": "1ca56ba9-0163-4334-8e45-b2330845181a",
        "colab": {
          "base_uri": "https://localhost:8080/",
          "height": 55
        }
      },
      "source": [
        "print(stopwords.fileids())"
      ],
      "execution_count": 0,
      "outputs": [
        {
          "output_type": "stream",
          "text": [
            "['arabic', 'azerbaijani', 'danish', 'dutch', 'english', 'finnish', 'french', 'german', 'greek', 'hungarian', 'indonesian', 'italian', 'kazakh', 'nepali', 'norwegian', 'portuguese', 'romanian', 'russian', 'slovene', 'spanish', 'swedish', 'tajik', 'turkish']\n"
          ],
          "name": "stdout"
        }
      ]
    },
    {
      "cell_type": "code",
      "metadata": {
        "id": "NLIApmc1SXEF",
        "colab_type": "code",
        "colab": {}
      },
      "source": [
        "STOPWORDS = set(stopwords.words('english'))"
      ],
      "execution_count": 0,
      "outputs": []
    },
    {
      "cell_type": "markdown",
      "metadata": {
        "id": "RZ45Tcn9-S54",
        "colab_type": "text"
      },
      "source": [
        "Download dataset bbc news."
      ]
    },
    {
      "cell_type": "code",
      "metadata": {
        "id": "HRWkdBYfRSgh",
        "colab_type": "code",
        "colab": {}
      },
      "source": [
        "url = \"https://storage.googleapis.com/dataset-uploader/bbc/bbc-text.csv\"\n",
        "df = pd.read_csv(url)"
      ],
      "execution_count": 0,
      "outputs": []
    },
    {
      "cell_type": "markdown",
      "metadata": {
        "id": "zZ1Ckrgg-jyA",
        "colab_type": "text"
      },
      "source": [
        "Cek jumlah artikel yang merupakan jumlah baris pada dataframe (`df`)."
      ]
    },
    {
      "cell_type": "code",
      "metadata": {
        "id": "dh3XqD-ecUVP",
        "colab_type": "code",
        "outputId": "fd9896e4-e0d1-4702-a119-45985f702d1b",
        "colab": {
          "base_uri": "https://localhost:8080/",
          "height": 35
        }
      },
      "source": [
        "len(df)"
      ],
      "execution_count": 0,
      "outputs": [
        {
          "output_type": "execute_result",
          "data": {
            "text/plain": [
              "2225"
            ]
          },
          "metadata": {
            "tags": []
          },
          "execution_count": 6
        }
      ]
    },
    {
      "cell_type": "code",
      "metadata": {
        "id": "RtXjTz65RW7T",
        "colab_type": "code",
        "outputId": "81fcd3df-c226-4a4f-9bc4-d42f2fbe75f5",
        "colab": {
          "base_uri": "https://localhost:8080/",
          "height": 198
        }
      },
      "source": [
        "df.head()"
      ],
      "execution_count": 0,
      "outputs": [
        {
          "output_type": "execute_result",
          "data": {
            "text/html": [
              "<div>\n",
              "<style scoped>\n",
              "    .dataframe tbody tr th:only-of-type {\n",
              "        vertical-align: middle;\n",
              "    }\n",
              "\n",
              "    .dataframe tbody tr th {\n",
              "        vertical-align: top;\n",
              "    }\n",
              "\n",
              "    .dataframe thead th {\n",
              "        text-align: right;\n",
              "    }\n",
              "</style>\n",
              "<table border=\"1\" class=\"dataframe\">\n",
              "  <thead>\n",
              "    <tr style=\"text-align: right;\">\n",
              "      <th></th>\n",
              "      <th>category</th>\n",
              "      <th>text</th>\n",
              "    </tr>\n",
              "  </thead>\n",
              "  <tbody>\n",
              "    <tr>\n",
              "      <th>0</th>\n",
              "      <td>tech</td>\n",
              "      <td>tv future in the hands of viewers with home th...</td>\n",
              "    </tr>\n",
              "    <tr>\n",
              "      <th>1</th>\n",
              "      <td>business</td>\n",
              "      <td>worldcom boss  left books alone  former worldc...</td>\n",
              "    </tr>\n",
              "    <tr>\n",
              "      <th>2</th>\n",
              "      <td>sport</td>\n",
              "      <td>tigers wary of farrell  gamble  leicester say ...</td>\n",
              "    </tr>\n",
              "    <tr>\n",
              "      <th>3</th>\n",
              "      <td>sport</td>\n",
              "      <td>yeading face newcastle in fa cup premiership s...</td>\n",
              "    </tr>\n",
              "    <tr>\n",
              "      <th>4</th>\n",
              "      <td>entertainment</td>\n",
              "      <td>ocean s twelve raids box office ocean s twelve...</td>\n",
              "    </tr>\n",
              "  </tbody>\n",
              "</table>\n",
              "</div>"
            ],
            "text/plain": [
              "        category                                               text\n",
              "0           tech  tv future in the hands of viewers with home th...\n",
              "1       business  worldcom boss  left books alone  former worldc...\n",
              "2          sport  tigers wary of farrell  gamble  leicester say ...\n",
              "3          sport  yeading face newcastle in fa cup premiership s...\n",
              "4  entertainment  ocean s twelve raids box office ocean s twelve..."
            ]
          },
          "metadata": {
            "tags": []
          },
          "execution_count": 7
        }
      ]
    },
    {
      "cell_type": "markdown",
      "metadata": {
        "id": "2Obq0qUC-6VQ",
        "colab_type": "text"
      },
      "source": [
        "Bersihkan data, dan hilangkan stopwords."
      ]
    },
    {
      "cell_type": "code",
      "metadata": {
        "id": "BSGExrl9RaEd",
        "colab_type": "code",
        "colab": {}
      },
      "source": [
        "def clean_text(text):\n",
        "    '''Make text lowercase, remove text in square brackets, remove punctuation and remove words containing numbers.'''\n",
        "    text = text.lower()\n",
        "    text = re.sub(r'\\[.*?\\]', '', text)\n",
        "    text = re.sub(r'[%s]' % re.escape(string.punctuation), '', text)\n",
        "    text = re.sub(r'\\w*\\d\\w*', '', text)\n",
        "    # Remove a sentence if it is only one word long\n",
        "    if len(text) > 2:\n",
        "        return ' '.join(word for word in text.split() if word not in STOPWORDS)\n",
        "\n",
        "df_clean = df.copy()\n",
        "df_clean['text'] = pd.DataFrame(df.text.apply(lambda x: clean_text(x)))"
      ],
      "execution_count": 0,
      "outputs": []
    },
    {
      "cell_type": "code",
      "metadata": {
        "id": "GB3lm9UzSjr3",
        "colab_type": "code",
        "outputId": "8b0107be-aad0-45ae-a24b-f18c43944b3b",
        "colab": {
          "base_uri": "https://localhost:8080/",
          "height": 198
        }
      },
      "source": [
        "df_clean.head()"
      ],
      "execution_count": 0,
      "outputs": [
        {
          "output_type": "execute_result",
          "data": {
            "text/html": [
              "<div>\n",
              "<style scoped>\n",
              "    .dataframe tbody tr th:only-of-type {\n",
              "        vertical-align: middle;\n",
              "    }\n",
              "\n",
              "    .dataframe tbody tr th {\n",
              "        vertical-align: top;\n",
              "    }\n",
              "\n",
              "    .dataframe thead th {\n",
              "        text-align: right;\n",
              "    }\n",
              "</style>\n",
              "<table border=\"1\" class=\"dataframe\">\n",
              "  <thead>\n",
              "    <tr style=\"text-align: right;\">\n",
              "      <th></th>\n",
              "      <th>category</th>\n",
              "      <th>text</th>\n",
              "    </tr>\n",
              "  </thead>\n",
              "  <tbody>\n",
              "    <tr>\n",
              "      <th>0</th>\n",
              "      <td>tech</td>\n",
              "      <td>tv future hands viewers home theatre systems p...</td>\n",
              "    </tr>\n",
              "    <tr>\n",
              "      <th>1</th>\n",
              "      <td>business</td>\n",
              "      <td>worldcom boss left books alone former worldcom...</td>\n",
              "    </tr>\n",
              "    <tr>\n",
              "      <th>2</th>\n",
              "      <td>sport</td>\n",
              "      <td>tigers wary farrell gamble leicester say rushe...</td>\n",
              "    </tr>\n",
              "    <tr>\n",
              "      <th>3</th>\n",
              "      <td>sport</td>\n",
              "      <td>yeading face newcastle fa cup premiership side...</td>\n",
              "    </tr>\n",
              "    <tr>\n",
              "      <th>4</th>\n",
              "      <td>entertainment</td>\n",
              "      <td>ocean twelve raids box office ocean twelve cri...</td>\n",
              "    </tr>\n",
              "  </tbody>\n",
              "</table>\n",
              "</div>"
            ],
            "text/plain": [
              "        category                                               text\n",
              "0           tech  tv future hands viewers home theatre systems p...\n",
              "1       business  worldcom boss left books alone former worldcom...\n",
              "2          sport  tigers wary farrell gamble leicester say rushe...\n",
              "3          sport  yeading face newcastle fa cup premiership side...\n",
              "4  entertainment  ocean twelve raids box office ocean twelve cri..."
            ]
          },
          "metadata": {
            "tags": []
          },
          "execution_count": 9
        }
      ]
    },
    {
      "cell_type": "markdown",
      "metadata": {
        "id": "D1MmXBXi_Bxh",
        "colab_type": "text"
      },
      "source": [
        "Terapkan lematisasi menggunakan library spacy. Cek https://spacy.io/"
      ]
    },
    {
      "cell_type": "code",
      "metadata": {
        "id": "-OlmEOmiSuHv",
        "colab_type": "code",
        "colab": {}
      },
      "source": [
        "nlp = spacy.load('en', disable=['ner', 'parser']) # disabling Named Entity Recognition for speed\n",
        "\n",
        "def lemmatizer(text):        \n",
        "    sent = []\n",
        "    doc = nlp(text)\n",
        "    for word in doc:\n",
        "        sent.append(word.lemma_)\n",
        "    return \" \".join(sent)\n",
        "\n",
        "df_clean[\"text_lemmatize\"] =  df_clean.apply(lambda x: lemmatizer(x['text']), axis=1)"
      ],
      "execution_count": 0,
      "outputs": []
    },
    {
      "cell_type": "code",
      "metadata": {
        "id": "IRxhNetqTK_i",
        "colab_type": "code",
        "outputId": "f8f96e1e-363a-48db-82ab-18a8ca471aeb",
        "colab": {
          "base_uri": "https://localhost:8080/",
          "height": 198
        }
      },
      "source": [
        "df_clean.head()"
      ],
      "execution_count": 0,
      "outputs": [
        {
          "output_type": "execute_result",
          "data": {
            "text/html": [
              "<div>\n",
              "<style scoped>\n",
              "    .dataframe tbody tr th:only-of-type {\n",
              "        vertical-align: middle;\n",
              "    }\n",
              "\n",
              "    .dataframe tbody tr th {\n",
              "        vertical-align: top;\n",
              "    }\n",
              "\n",
              "    .dataframe thead th {\n",
              "        text-align: right;\n",
              "    }\n",
              "</style>\n",
              "<table border=\"1\" class=\"dataframe\">\n",
              "  <thead>\n",
              "    <tr style=\"text-align: right;\">\n",
              "      <th></th>\n",
              "      <th>category</th>\n",
              "      <th>text</th>\n",
              "      <th>text_lemmatize</th>\n",
              "    </tr>\n",
              "  </thead>\n",
              "  <tbody>\n",
              "    <tr>\n",
              "      <th>0</th>\n",
              "      <td>tech</td>\n",
              "      <td>tv future hands viewers home theatre systems p...</td>\n",
              "      <td>tv future hand viewer home theatre system plas...</td>\n",
              "    </tr>\n",
              "    <tr>\n",
              "      <th>1</th>\n",
              "      <td>business</td>\n",
              "      <td>worldcom boss left books alone former worldcom...</td>\n",
              "      <td>worldcom boss leave book alone former worldcom...</td>\n",
              "    </tr>\n",
              "    <tr>\n",
              "      <th>2</th>\n",
              "      <td>sport</td>\n",
              "      <td>tigers wary farrell gamble leicester say rushe...</td>\n",
              "      <td>tiger wary farrell gamble leicester say rush m...</td>\n",
              "    </tr>\n",
              "    <tr>\n",
              "      <th>3</th>\n",
              "      <td>sport</td>\n",
              "      <td>yeading face newcastle fa cup premiership side...</td>\n",
              "      <td>yeade face newcastle fa cup premiership side n...</td>\n",
              "    </tr>\n",
              "    <tr>\n",
              "      <th>4</th>\n",
              "      <td>entertainment</td>\n",
              "      <td>ocean twelve raids box office ocean twelve cri...</td>\n",
              "      <td>ocean twelve raid box office ocean twelve crim...</td>\n",
              "    </tr>\n",
              "  </tbody>\n",
              "</table>\n",
              "</div>"
            ],
            "text/plain": [
              "        category  ...                                     text_lemmatize\n",
              "0           tech  ...  tv future hand viewer home theatre system plas...\n",
              "1       business  ...  worldcom boss leave book alone former worldcom...\n",
              "2          sport  ...  tiger wary farrell gamble leicester say rush m...\n",
              "3          sport  ...  yeade face newcastle fa cup premiership side n...\n",
              "4  entertainment  ...  ocean twelve raid box office ocean twelve crim...\n",
              "\n",
              "[5 rows x 3 columns]"
            ]
          },
          "metadata": {
            "tags": []
          },
          "execution_count": 11
        }
      ]
    },
    {
      "cell_type": "code",
      "metadata": {
        "id": "gZXJkKZETTAg",
        "colab_type": "code",
        "outputId": "f5082df3-c4e4-4b7a-a473-69afed010ecb",
        "colab": {
          "base_uri": "https://localhost:8080/",
          "height": 55
        }
      },
      "source": [
        "df_clean[\"text\"][0]"
      ],
      "execution_count": 0,
      "outputs": [
        {
          "output_type": "execute_result",
          "data": {
            "text/plain": [
              "'tv future hands viewers home theatre systems plasma highdefinition tvs digital video recorders moving living room way people watch tv radically different five years time according expert panel gathered annual consumer electronics show las vegas discuss new technologies impact one favourite pastimes us leading trend programmes content delivered viewers via home networks cable satellite telecoms companies broadband service providers front rooms portable devices one talkedabout technologies ces digital personal video recorders dvr pvr settop boxes like us tivo uk sky system allow people record store play pause forward wind tv programmes want essentially technology allows much personalised tv also builtin highdefinition tv sets big business japan us slower take europe lack highdefinition programming people forward wind adverts also forget abiding network channel schedules putting together alacarte entertainment us networks cable satellite companies worried means terms advertising revenues well brand identity viewer loyalty channels although us leads technology moment also concern raised europe particularly growing uptake services like sky happens today see nine months years time uk adam hume bbc broadcast futurologist told bbc news website likes bbc issues lost advertising revenue yet pressing issue moment commercial uk broadcasters brand loyalty important everyone talking content brands rather network brands said tim hanlon brand communications firm starcom mediavest reality broadband connections anybody producer content added challenge hard promote programme much choice means said stacey jolna senior vice president tv guide tv group way people find content want watch simplified tv viewers means networks us terms channels could take leaf google book search engine future instead scheduler help people find want watch kind channel model might work younger ipod generation used taking control gadgets play might suit everyone panel recognised older generations comfortable familiar schedules channel brands know getting perhaps want much choice put hands mr hanlon suggested end kids diapers pushing buttons already everything possible available said mr hanlon ultimately consumer tell market want new gadgets technologies showcased ces many enhancing tvwatching experience highdefinition tv sets everywhere many new models lcd liquid crystal display tvs launched dvr capability built instead external boxes one example launched show humax lcd tv tivo dvr dvd recorder one us biggest satellite tv companies directtv even launched branded dvr show recording capability instant replay search function set pause rewind tv hours microsoft chief bill gates announced preshow keynote speech partnership tivo called tivotogo means people play recorded programmes windows pcs mobile devices reflect increasing trend freeing multimedia people watch want want'"
            ]
          },
          "metadata": {
            "tags": []
          },
          "execution_count": 12
        }
      ]
    },
    {
      "cell_type": "code",
      "metadata": {
        "id": "f5iJ3uGxTnEi",
        "colab_type": "code",
        "outputId": "2c0f1081-3bfd-4ab1-b0c6-7ac448471cd8",
        "colab": {
          "base_uri": "https://localhost:8080/",
          "height": 55
        }
      },
      "source": [
        "df_clean[\"text_lemmatize\"][0]"
      ],
      "execution_count": 0,
      "outputs": [
        {
          "output_type": "execute_result",
          "data": {
            "text/plain": [
              "'tv future hand viewer home theatre system plasma highdefinition tvs digital video recorder move living room way people watch tv radically different five year time accord expert panel gather annual consumer electronic show las vegas discuss new technology impact one favourite pastime -PRON- lead trend programme content deliver viewer via home network cable satellite telecom company broadband service provider front room portable device one talkedabout technology ce digital personal video recorder dvr pvr settop box like -PRON- tivo uk sky system allow people record store play pause forward wind tv programme want essentially technology allow much personalised tv also builtin highdefinition tv set big business japan -PRON- slow take europe lack highdefinition program people forward wind advert also forget abide network channel schedule put together alacarte entertainment -PRON- network cable satellite company worry mean term advertising revenue well brand identity viewer loyalty channel although -PRON- lead technology moment also concern raise europe particularly grow uptake service like sky happen today see nine month year time uk adam hume bbc broadcast futurologist tell bbc news website like bbc issue lose advertising revenue yet press issue moment commercial uk broadcaster brand loyalty important everyone talk content brand rather network brand say tim hanlon brand communication firm starcom mediav reality broadband connection anybody producer content add challenge hard promote programme much choice mean say stacey jolna senior vice president tv guide tv group way people find content want watch simplify tv viewer mean network -PRON- term channel could take leaf google book search engine future instead scheduler help people find want watch kind channel model may work young ipod generation use take control gadget play may suit everyone panel recognise old generation comfortable familiar schedule channel brand know get perhaps want much choice put hand mr hanlon suggest end kid diaper push button already everything possible available say mr hanlon ultimately consumer tell market want new gadget technology showcased ce many enhance tvwatche experience highdefinition tv set everywhere many new model lcd liquid crystal display tvs launch dvr capability build instead external box one example launch show humax lcd tv tivo dvr dvd recorder one -PRON- big satellite tv company directtv even launch brand dvr show record capability instant replay search function set pause rewind tv hour microsoft chief bill gate announce preshow keynote speech partnership tivo call tivotogo mean people play record programme window pcs mobile device reflect increase trend free multimedia people watch want want'"
            ]
          },
          "metadata": {
            "tags": []
          },
          "execution_count": 13
        }
      ]
    },
    {
      "cell_type": "markdown",
      "metadata": {
        "id": "xEQO2kVAAt6q",
        "colab_type": "text"
      },
      "source": [
        "Persiapkan list `sentences`, yang berisi list kata pada tiap kalimat.  \n",
        "Dari `['saya dan dia', 'kamu dan mereka']` menjadi `[['saya', 'dan', 'dia'], ['kamu', 'dan', 'mereka']`."
      ]
    },
    {
      "cell_type": "code",
      "metadata": {
        "id": "SqlBfFjYT1Aj",
        "colab_type": "code",
        "outputId": "7e507a7a-d5ff-469e-d452-30b69d352f5f",
        "colab": {
          "base_uri": "https://localhost:8080/",
          "height": 35
        }
      },
      "source": [
        "sentences = [row.split() for row in df_clean['text_lemmatize']]\n",
        "word_freq = defaultdict(int)\n",
        "for sent in sentences:\n",
        "    for i in sent:\n",
        "        word_freq[i] += 1\n",
        "len(word_freq)"
      ],
      "execution_count": 0,
      "outputs": [
        {
          "output_type": "execute_result",
          "data": {
            "text/plain": [
              "24582"
            ]
          },
          "metadata": {
            "tags": []
          },
          "execution_count": 14
        }
      ]
    },
    {
      "cell_type": "markdown",
      "metadata": {
        "id": "2p8fjO-mAj9M",
        "colab_type": "text"
      },
      "source": [
        "Top-10 kata dengan jumlah kemunculan tertinggi."
      ]
    },
    {
      "cell_type": "code",
      "metadata": {
        "id": "84UHyM5yUIMF",
        "colab_type": "code",
        "outputId": "ac937e8e-4792-43bb-89c8-8506b31af6ba",
        "colab": {
          "base_uri": "https://localhost:8080/",
          "height": 190
        }
      },
      "source": [
        "sorted(word_freq, key=word_freq.get, reverse=True)[:10]"
      ],
      "execution_count": 0,
      "outputs": [
        {
          "output_type": "execute_result",
          "data": {
            "text/plain": [
              "['say',\n",
              " 'mr',\n",
              " 'year',\n",
              " 'would',\n",
              " 'make',\n",
              " 'also',\n",
              " 'people',\n",
              " '-PRON-',\n",
              " 'new',\n",
              " 'one']"
            ]
          },
          "metadata": {
            "tags": []
          },
          "execution_count": 15
        }
      ]
    },
    {
      "cell_type": "markdown",
      "metadata": {
        "id": "S17mlniR-cS1",
        "colab_type": "text"
      },
      "source": [
        "## Training Word2Vec"
      ]
    },
    {
      "cell_type": "markdown",
      "metadata": {
        "id": "phAZwxNB4uI1",
        "colab_type": "text"
      },
      "source": [
        "Import library yang dibutuhkan."
      ]
    },
    {
      "cell_type": "code",
      "metadata": {
        "id": "zj0VpY6cPyQP",
        "colab_type": "code",
        "colab": {}
      },
      "source": [
        "from time import time  \n",
        "from sklearn.manifold import TSNE\n",
        "from gensim.models import Word2Vec"
      ],
      "execution_count": 0,
      "outputs": []
    },
    {
      "cell_type": "markdown",
      "metadata": {
        "id": "ZEyE0_v0PgLE",
        "colab_type": "text"
      },
      "source": [
        "Buat objek dari constructor Word2Vec."
      ]
    },
    {
      "cell_type": "code",
      "metadata": {
        "id": "LQLDiDnUVQ0x",
        "colab_type": "code",
        "colab": {}
      },
      "source": [
        "# min_count: minimum number of occurrences of a word in the corpus to be included in the model.\n",
        "# window: the maximum distance between the current and predicted word within a sentence.\n",
        "# size: the dimensionality of the feature vectors\n",
        "# workers: number of workers, \n",
        "w2v_model = Word2Vec(min_count=200,\n",
        "                     window=5,\n",
        "                     size=100,\n",
        "                     workers=4,\n",
        "                     sg=1)"
      ],
      "execution_count": 0,
      "outputs": []
    },
    {
      "cell_type": "markdown",
      "metadata": {
        "id": "CzVDuQAsPoDE",
        "colab_type": "text"
      },
      "source": [
        "Bangun vocabulary."
      ]
    },
    {
      "cell_type": "code",
      "metadata": {
        "id": "fA0qKc6LVZLO",
        "colab_type": "code",
        "colab": {}
      },
      "source": [
        "# this line of code to prepare the model vocabulary\n",
        "w2v_model.build_vocab(sentences)"
      ],
      "execution_count": 0,
      "outputs": []
    },
    {
      "cell_type": "markdown",
      "metadata": {
        "id": "dQbB94_PPwki",
        "colab_type": "text"
      },
      "source": [
        "Train word2vec model."
      ]
    },
    {
      "cell_type": "code",
      "metadata": {
        "id": "p85SjhcqVh7V",
        "colab_type": "code",
        "outputId": "d19d70ac-21e5-4ba4-afc3-809e88fdd064",
        "colab": {
          "base_uri": "https://localhost:8080/",
          "height": 89
        }
      },
      "source": [
        "# train word vectors\n",
        "w2v_model.train(sentences, total_examples=w2v_model.corpus_count, epochs=w2v_model.iter)"
      ],
      "execution_count": 0,
      "outputs": [
        {
          "output_type": "stream",
          "text": [
            "/usr/local/lib/python3.6/dist-packages/ipykernel_launcher.py:1: DeprecationWarning: Call to deprecated `iter` (Attribute will be removed in 4.0.0, use self.epochs instead).\n",
            "  \"\"\"Entry point for launching an IPython kernel.\n"
          ],
          "name": "stderr"
        },
        {
          "output_type": "execute_result",
          "data": {
            "text/plain": [
              "(986028, 2390515)"
            ]
          },
          "metadata": {
            "tags": []
          },
          "execution_count": 19
        }
      ]
    },
    {
      "cell_type": "code",
      "metadata": {
        "id": "Y3o1Z6zkVkyE",
        "colab_type": "code",
        "outputId": "2cab56c6-c6c9-4647-c88e-bede689383cb",
        "colab": {
          "base_uri": "https://localhost:8080/",
          "height": 245
        }
      },
      "source": [
        "# Explore the model\n",
        "w2v_model.wv.most_similar(positive=['economy'])"
      ],
      "execution_count": 0,
      "outputs": [
        {
          "output_type": "stream",
          "text": [
            "/usr/local/lib/python3.6/dist-packages/gensim/matutils.py:737: FutureWarning: Conversion of the second argument of issubdtype from `int` to `np.signedinteger` is deprecated. In future, it will be treated as `np.int64 == np.dtype(int).type`.\n",
            "  if np.issubdtype(vec.dtype, np.int):\n"
          ],
          "name": "stderr"
        },
        {
          "output_type": "execute_result",
          "data": {
            "text/plain": [
              "[('economic', 0.8626338243484497),\n",
              " ('growth', 0.770283043384552),\n",
              " ('budget', 0.6862184405326843),\n",
              " ('spending', 0.6778048276901245),\n",
              " ('policy', 0.6446871757507324),\n",
              " ('strong', 0.5989362001419067),\n",
              " ('continue', 0.5947650074958801),\n",
              " ('grow', 0.5930054187774658),\n",
              " ('rate', 0.586550772190094),\n",
              " ('quarter', 0.5815751552581787)]"
            ]
          },
          "metadata": {
            "tags": []
          },
          "execution_count": 20
        }
      ]
    },
    {
      "cell_type": "code",
      "metadata": {
        "id": "lBlcresgYcuY",
        "colab_type": "code",
        "outputId": "df6076b5-fbfe-447a-dd62-2035cbbbfcda",
        "colab": {
          "base_uri": "https://localhost:8080/",
          "height": 245
        }
      },
      "source": [
        "w2v_model.wv.most_similar(positive=['tv'])"
      ],
      "execution_count": 0,
      "outputs": [
        {
          "output_type": "stream",
          "text": [
            "/usr/local/lib/python3.6/dist-packages/gensim/matutils.py:737: FutureWarning: Conversion of the second argument of issubdtype from `int` to `np.signedinteger` is deprecated. In future, it will be treated as `np.int64 == np.dtype(int).type`.\n",
            "  if np.issubdtype(vec.dtype, np.int):\n"
          ],
          "name": "stderr"
        },
        {
          "output_type": "execute_result",
          "data": {
            "text/plain": [
              "[('digital', 0.6795876622200012),\n",
              " ('programme', 0.6513023376464844),\n",
              " ('series', 0.6242967844009399),\n",
              " ('content', 0.6188868880271912),\n",
              " ('broadband', 0.6004774570465088),\n",
              " ('video', 0.5924155712127686),\n",
              " ('network', 0.5495978593826294),\n",
              " ('show', 0.5477049946784973),\n",
              " ('live', 0.5429624915122986),\n",
              " ('standard', 0.5379811525344849)]"
            ]
          },
          "metadata": {
            "tags": []
          },
          "execution_count": 21
        }
      ]
    },
    {
      "cell_type": "code",
      "metadata": {
        "id": "rKvb0UZbYor3",
        "colab_type": "code",
        "outputId": "687daed0-0daf-4532-a7af-66a52d041049",
        "colab": {
          "base_uri": "https://localhost:8080/",
          "height": 89
        }
      },
      "source": [
        "w2v_model.wv.similarity('device', 'gadget')"
      ],
      "execution_count": 0,
      "outputs": [
        {
          "output_type": "stream",
          "text": [
            "/usr/local/lib/python3.6/dist-packages/gensim/matutils.py:737: FutureWarning: Conversion of the second argument of issubdtype from `int` to `np.signedinteger` is deprecated. In future, it will be treated as `np.int64 == np.dtype(int).type`.\n",
            "  if np.issubdtype(vec.dtype, np.int):\n"
          ],
          "name": "stderr"
        },
        {
          "output_type": "execute_result",
          "data": {
            "text/plain": [
              "0.7621009"
            ]
          },
          "metadata": {
            "tags": []
          },
          "execution_count": 22
        }
      ]
    },
    {
      "cell_type": "code",
      "metadata": {
        "id": "bfkClHdZZYXZ",
        "colab_type": "code",
        "outputId": "7aa6f48a-b97f-416e-c126-5b0476bed7cc",
        "colab": {
          "base_uri": "https://localhost:8080/",
          "height": 435
        }
      },
      "source": [
        "w2v_model['gadget']"
      ],
      "execution_count": 0,
      "outputs": [
        {
          "output_type": "stream",
          "text": [
            "/usr/local/lib/python3.6/dist-packages/ipykernel_launcher.py:1: DeprecationWarning: Call to deprecated `__getitem__` (Method will be removed in 4.0.0, use self.wv.__getitem__() instead).\n",
            "  \"\"\"Entry point for launching an IPython kernel.\n"
          ],
          "name": "stderr"
        },
        {
          "output_type": "execute_result",
          "data": {
            "text/plain": [
              "array([-0.27969965,  0.04934822, -0.09615462,  0.08715895, -0.21611746,\n",
              "       -0.02256531, -0.2404655 , -0.15198165,  0.26959532, -0.2613436 ,\n",
              "       -0.15093727,  0.0598196 ,  0.20104057,  0.23135367,  0.19543427,\n",
              "       -0.03134729, -0.1473884 , -0.00423175,  0.40161222,  0.61247134,\n",
              "       -0.23210917,  0.00274886,  0.06223651,  0.5093693 ,  0.03392236,\n",
              "       -0.6188746 ,  0.27462083,  0.70734084,  0.20815939, -0.5494012 ,\n",
              "        0.05375341,  0.02780654,  0.15069495, -0.34212318, -0.00251372,\n",
              "       -0.17648481,  0.06407556, -0.3882124 ,  0.18136588, -0.58146757,\n",
              "       -0.39853662, -0.09276685, -0.46866235, -0.2847438 ,  0.05360653,\n",
              "        0.5767565 , -0.01957223,  0.00535002, -0.22609973,  0.13159528,\n",
              "       -0.08307559, -0.03709345,  0.10266943,  0.10129251, -0.27549747,\n",
              "       -0.59498286, -0.02056148, -0.12504542,  0.24514483,  0.05358782,\n",
              "       -0.07851532, -0.12089023, -0.23780067,  0.16830902, -0.44846228,\n",
              "        0.06625295,  0.43952224, -0.5938714 , -0.05478679, -0.09045308,\n",
              "       -0.11429603, -0.24677338,  0.17790486, -0.1427731 ,  0.26295564,\n",
              "        0.18158384,  0.04112446, -0.30885705, -0.09131787,  0.07950653,\n",
              "       -0.38683334,  0.06547268,  0.4174954 , -0.27226046, -0.13538203,\n",
              "        0.42366356, -0.6626241 ,  0.12476856, -0.25857747, -0.38381258,\n",
              "        0.24688052,  0.32503197, -0.2578319 , -0.14597423,  0.1313172 ,\n",
              "        0.59959084, -0.23484328,  0.17849697, -0.2597106 , -0.07870227],\n",
              "      dtype=float32)"
            ]
          },
          "metadata": {
            "tags": []
          },
          "execution_count": 23
        }
      ]
    },
    {
      "cell_type": "code",
      "metadata": {
        "id": "tdq1L_B-ZklF",
        "colab_type": "code",
        "outputId": "f22c9963-466a-46e7-bd87-a8c6c04c1caa",
        "colab": {
          "base_uri": "https://localhost:8080/",
          "height": 89
        }
      },
      "source": [
        "w2v_model['gadget'].shape"
      ],
      "execution_count": 0,
      "outputs": [
        {
          "output_type": "stream",
          "text": [
            "/usr/local/lib/python3.6/dist-packages/ipykernel_launcher.py:1: DeprecationWarning: Call to deprecated `__getitem__` (Method will be removed in 4.0.0, use self.wv.__getitem__() instead).\n",
            "  \"\"\"Entry point for launching an IPython kernel.\n"
          ],
          "name": "stderr"
        },
        {
          "output_type": "execute_result",
          "data": {
            "text/plain": [
              "(100,)"
            ]
          },
          "metadata": {
            "tags": []
          },
          "execution_count": 24
        }
      ]
    },
    {
      "cell_type": "markdown",
      "metadata": {
        "id": "GlwqMD4TtSfz",
        "colab_type": "text"
      },
      "source": [
        "## Text Classification with LSTM"
      ]
    },
    {
      "cell_type": "markdown",
      "metadata": {
        "id": "fqgEFXhdP_ms",
        "colab_type": "text"
      },
      "source": [
        "Kali ini kita akan coba menggunakan LSTM untuk melakukan klasifikasi teks."
      ]
    },
    {
      "cell_type": "code",
      "metadata": {
        "id": "4MclTSZFZwp4",
        "colab_type": "code",
        "outputId": "6ec35e6f-5e31-4fd8-c533-6744336f68c0",
        "colab": {
          "base_uri": "https://localhost:8080/",
          "height": 64
        }
      },
      "source": [
        "import tensorflow as tf\n",
        "import numpy as np\n",
        "from tensorflow.keras.preprocessing.text import Tokenizer\n",
        "from tensorflow.keras.preprocessing.sequence import pad_sequences\n",
        "from matplotlib import pyplot as plt\n",
        "%matplotlib inline"
      ],
      "execution_count": 0,
      "outputs": [
        {
          "output_type": "display_data",
          "data": {
            "text/html": [
              "<p style=\"color: red;\">\n",
              "The default version of TensorFlow in Colab will soon switch to TensorFlow 2.x.<br>\n",
              "We recommend you <a href=\"https://www.tensorflow.org/guide/migrate\" target=\"_blank\">upgrade</a> now \n",
              "or ensure your notebook will continue to use TensorFlow 1.x via the <code>%tensorflow_version 1.x</code> magic:\n",
              "<a href=\"https://colab.research.google.com/notebooks/tensorflow_version.ipynb\" target=\"_blank\">more info</a>.</p>\n"
            ],
            "text/plain": [
              "<IPython.core.display.HTML object>"
            ]
          },
          "metadata": {
            "tags": []
          }
        }
      ]
    },
    {
      "cell_type": "markdown",
      "metadata": {
        "id": "R1ywrQw-Bp8h",
        "colab_type": "text"
      },
      "source": [
        "`vocab_size`: hanya menggunakan top-5000 vocab dari total 24582. Hal ini untuk mempercepat waktu training.  \n",
        "`embedding_dim`: dimensi vektor representasi setiap token.  \n",
        "`max_length`: maksimal jumlah token dalam satu artikel/sample data.  \n",
        "`trunc_type = post`: jika melebihi `max_length`, pemotongan dilakukan di bagian akhir.  \n",
        "`oov_tok`: pengganti token yang tidak ada dalam vocab.\n",
        "\n",
        "*Sebaiknya menyebutkan token atau kata?*"
      ]
    },
    {
      "cell_type": "code",
      "metadata": {
        "id": "7ltMUkNic9mS",
        "colab_type": "code",
        "colab": {}
      },
      "source": [
        "vocab_size = 5000\n",
        "embedding_dim = 64\n",
        "max_length = 200\n",
        "trunc_type = 'post'\n",
        "padding_type = 'post'\n",
        "oov_tok = '<OOV>'\n",
        "training_portion = .8"
      ],
      "execution_count": 0,
      "outputs": []
    },
    {
      "cell_type": "markdown",
      "metadata": {
        "id": "c5aPPDfhDnYT",
        "colab_type": "text"
      },
      "source": [
        "Split data menjadi 80% training dan 20% validasi."
      ]
    },
    {
      "cell_type": "code",
      "metadata": {
        "id": "C_2fvkAxdmYS",
        "colab_type": "code",
        "colab": {}
      },
      "source": [
        "train_size = int(len(df_clean) * training_portion)\n",
        "train_set = df_clean[0: train_size]\n",
        "validation_set = df_clean[train_size:]"
      ],
      "execution_count": 0,
      "outputs": []
    },
    {
      "cell_type": "code",
      "metadata": {
        "id": "OYRei0Uddva8",
        "colab_type": "code",
        "outputId": "98b7baaf-badd-4d4c-8729-3972332e9c2c",
        "colab": {
          "base_uri": "https://localhost:8080/",
          "height": 35
        }
      },
      "source": [
        "len(train_set), len(validation_set)"
      ],
      "execution_count": 0,
      "outputs": [
        {
          "output_type": "execute_result",
          "data": {
            "text/plain": [
              "(1780, 445)"
            ]
          },
          "metadata": {
            "tags": []
          },
          "execution_count": 28
        }
      ]
    },
    {
      "cell_type": "markdown",
      "metadata": {
        "id": "Pb4R_MKaD14N",
        "colab_type": "text"
      },
      "source": [
        "Tokenisasi menggunakan library `keras`. Fit `tokenizer` **hanya pada training set**."
      ]
    },
    {
      "cell_type": "code",
      "metadata": {
        "id": "o9F0zUrUdxTI",
        "colab_type": "code",
        "colab": {}
      },
      "source": [
        "tokenizer = Tokenizer(num_words = vocab_size, oov_token=oov_tok)\n",
        "tokenizer.fit_on_texts(train_set[\"text\"])\n",
        "word_index = tokenizer.word_index"
      ],
      "execution_count": 0,
      "outputs": []
    },
    {
      "cell_type": "code",
      "metadata": {
        "id": "hIks7Z3weQFZ",
        "colab_type": "code",
        "outputId": "9049d812-54f3-4c08-fc0e-31793cb9a8d3",
        "colab": {
          "base_uri": "https://localhost:8080/",
          "height": 190
        }
      },
      "source": [
        "list(word_index.items())[0:10]"
      ],
      "execution_count": 0,
      "outputs": [
        {
          "output_type": "execute_result",
          "data": {
            "text/plain": [
              "[('<OOV>', 1),\n",
              " ('said', 2),\n",
              " ('mr', 3),\n",
              " ('would', 4),\n",
              " ('also', 5),\n",
              " ('people', 6),\n",
              " ('new', 7),\n",
              " ('us', 8),\n",
              " ('year', 9),\n",
              " ('one', 10)]"
            ]
          },
          "metadata": {
            "tags": []
          },
          "execution_count": 30
        }
      ]
    },
    {
      "cell_type": "markdown",
      "metadata": {
        "id": "3aX_M2vlEw2Q",
        "colab_type": "text"
      },
      "source": [
        "Encode sekuen token ke dalam sekuen id."
      ]
    },
    {
      "cell_type": "code",
      "metadata": {
        "id": "Qpt6CnOkeUJx",
        "colab_type": "code",
        "colab": {}
      },
      "source": [
        "train_sequences = tokenizer.texts_to_sequences(train_set[\"text\"])"
      ],
      "execution_count": 0,
      "outputs": []
    },
    {
      "cell_type": "code",
      "metadata": {
        "id": "5JF_kuJpe06O",
        "colab_type": "code",
        "outputId": "e87cc035-e2ab-4045-9a72-87af7f485c9d",
        "colab": {
          "base_uri": "https://localhost:8080/",
          "height": 55
        }
      },
      "source": [
        "print(train_sequences[10])"
      ],
      "execution_count": 0,
      "outputs": [
        {
          "output_type": "stream",
          "text": [
            "[2248, 1, 1, 24, 631, 548, 1, 1, 1, 1618, 1, 1, 2248, 24, 520, 1, 1, 148, 248, 1, 148, 248, 785, 784, 602, 2139, 1, 1570, 1, 1596, 1, 1, 1, 1, 1, 4479, 1, 1, 108, 4258, 1, 2, 2669, 1396, 321, 4480, 1, 48, 337, 1, 321, 2009, 3717, 37, 24, 3560, 1, 1, 1, 1, 503, 1, 1, 1, 812, 576, 2316, 318, 4734, 1, 345, 24, 1, 728, 2249, 1, 4067, 121, 10, 1, 3429, 620, 3310, 1, 24, 1, 373, 784, 602, 1, 80, 14, 577, 1, 1, 1, 555, 1570, 937, 1, 1, 823, 1734, 130, 1, 1, 1, 2764, 24, 1, 99, 248, 1, 1483, 4735, 503, 454, 1, 1338, 4481, 712, 1279, 1, 1732, 10, 38, 631, 292, 1, 69, 443, 520, 280, 1484, 24, 437, 1, 1, 1544, 1, 775, 1, 2965, 1, 1464, 5, 1, 2248, 520, 24, 2762, 1, 1, 1, 1, 1, 813, 41, 1693, 27, 895, 1, 814, 24, 348, 24, 14, 280, 1484, 1244, 20, 72, 979, 1002, 4068, 249]\n"
          ],
          "name": "stdout"
        }
      ]
    },
    {
      "cell_type": "markdown",
      "metadata": {
        "id": "bc--4nzJFfV_",
        "colab_type": "text"
      },
      "source": [
        "Potong sekuens ids (jika melebihi `max_length`) atau tambahkan padding (jika kurang dari `max_length`)."
      ]
    },
    {
      "cell_type": "code",
      "metadata": {
        "id": "uGAiKQ7Te3rr",
        "colab_type": "code",
        "colab": {}
      },
      "source": [
        "train_padded = pad_sequences(train_sequences, maxlen=max_length, padding=padding_type, truncating=trunc_type)"
      ],
      "execution_count": 0,
      "outputs": []
    },
    {
      "cell_type": "code",
      "metadata": {
        "id": "Y4jpJaQBfA9U",
        "colab_type": "code",
        "outputId": "2d1dd80d-d5e7-420c-cb08-9b2c59563483",
        "colab": {
          "base_uri": "https://localhost:8080/",
          "height": 121
        }
      },
      "source": [
        "print('before pad_sequences: ',len(train_sequences[0]))\n",
        "print('after pad_sequences: ',len(train_padded[0]))\n",
        "\n",
        "print('before pad_sequences: ',len(train_sequences[1]))\n",
        "print('after pad_sequences: ',len(train_padded[1]))\n",
        "\n",
        "print('before pad_sequences: ',len(train_sequences[10]))\n",
        "print('after pad_sequences: ',len(train_padded[10]))"
      ],
      "execution_count": 0,
      "outputs": [
        {
          "output_type": "stream",
          "text": [
            "before pad_sequences:  404\n",
            "after pad_sequences:  200\n",
            "before pad_sequences:  183\n",
            "after pad_sequences:  200\n",
            "before pad_sequences:  176\n",
            "after pad_sequences:  200\n"
          ],
          "name": "stdout"
        }
      ]
    },
    {
      "cell_type": "markdown",
      "metadata": {
        "id": "J83nd_TvQZwq",
        "colab_type": "text"
      },
      "source": [
        "Perbandingan data sebelum dan setelah padding."
      ]
    },
    {
      "cell_type": "code",
      "metadata": {
        "id": "vGu-eYZFfIA3",
        "colab_type": "code",
        "outputId": "d74377fd-b4b1-4fe7-89e0-7903813401dc",
        "colab": {
          "base_uri": "https://localhost:8080/",
          "height": 242
        }
      },
      "source": [
        "print(np.asarray(train_sequences[10]))"
      ],
      "execution_count": 0,
      "outputs": [
        {
          "output_type": "stream",
          "text": [
            "[2248    1    1   24  631  548    1    1    1 1618    1    1 2248   24\n",
            "  520    1    1  148  248    1  148  248  785  784  602 2139    1 1570\n",
            "    1 1596    1    1    1    1    1 4479    1    1  108 4258    1    2\n",
            " 2669 1396  321 4480    1   48  337    1  321 2009 3717   37   24 3560\n",
            "    1    1    1    1  503    1    1    1  812  576 2316  318 4734    1\n",
            "  345   24    1  728 2249    1 4067  121   10    1 3429  620 3310    1\n",
            "   24    1  373  784  602    1   80   14  577    1    1    1  555 1570\n",
            "  937    1    1  823 1734  130    1    1    1 2764   24    1   99  248\n",
            "    1 1483 4735  503  454    1 1338 4481  712 1279    1 1732   10   38\n",
            "  631  292    1   69  443  520  280 1484   24  437    1    1 1544    1\n",
            "  775    1 2965    1 1464    5    1 2248  520   24 2762    1    1    1\n",
            "    1    1  813   41 1693   27  895    1  814   24  348   24   14  280\n",
            " 1484 1244   20   72  979 1002 4068  249]\n"
          ],
          "name": "stdout"
        }
      ]
    },
    {
      "cell_type": "markdown",
      "metadata": {
        "id": "cBctiuR9GJqO",
        "colab_type": "text"
      },
      "source": [
        "Token padding adalah `0`."
      ]
    },
    {
      "cell_type": "code",
      "metadata": {
        "id": "6LamBFOkfNFZ",
        "colab_type": "code",
        "outputId": "a5c841e0-be0c-4ba0-deb8-70bf14b8eaca",
        "colab": {
          "base_uri": "https://localhost:8080/",
          "height": 276
        }
      },
      "source": [
        "print(train_padded[10])"
      ],
      "execution_count": 0,
      "outputs": [
        {
          "output_type": "stream",
          "text": [
            "[2248    1    1   24  631  548    1    1    1 1618    1    1 2248   24\n",
            "  520    1    1  148  248    1  148  248  785  784  602 2139    1 1570\n",
            "    1 1596    1    1    1    1    1 4479    1    1  108 4258    1    2\n",
            " 2669 1396  321 4480    1   48  337    1  321 2009 3717   37   24 3560\n",
            "    1    1    1    1  503    1    1    1  812  576 2316  318 4734    1\n",
            "  345   24    1  728 2249    1 4067  121   10    1 3429  620 3310    1\n",
            "   24    1  373  784  602    1   80   14  577    1    1    1  555 1570\n",
            "  937    1    1  823 1734  130    1    1    1 2764   24    1   99  248\n",
            "    1 1483 4735  503  454    1 1338 4481  712 1279    1 1732   10   38\n",
            "  631  292    1   69  443  520  280 1484   24  437    1    1 1544    1\n",
            "  775    1 2965    1 1464    5    1 2248  520   24 2762    1    1    1\n",
            "    1    1  813   41 1693   27  895    1  814   24  348   24   14  280\n",
            " 1484 1244   20   72  979 1002 4068  249    0    0    0    0    0    0\n",
            "    0    0    0    0    0    0    0    0    0    0    0    0    0    0\n",
            "    0    0    0    0]\n"
          ],
          "name": "stdout"
        }
      ]
    },
    {
      "cell_type": "markdown",
      "metadata": {
        "id": "YIJA5YfdGOSX",
        "colab_type": "text"
      },
      "source": [
        "Lakukan hal yang sama untuk data validasi."
      ]
    },
    {
      "cell_type": "code",
      "metadata": {
        "id": "AymBefAMfPNb",
        "colab_type": "code",
        "outputId": "1ada2c53-8190-4eb5-dc65-845f565c99fe",
        "colab": {
          "base_uri": "https://localhost:8080/",
          "height": 52
        }
      },
      "source": [
        "validation_sequences = tokenizer.texts_to_sequences(validation_set['text'])\n",
        "validation_padded = pad_sequences(validation_sequences, maxlen=max_length, padding=padding_type, truncating=trunc_type)\n",
        "\n",
        "print(len(validation_sequences))\n",
        "print(validation_padded.shape)"
      ],
      "execution_count": 0,
      "outputs": [
        {
          "output_type": "stream",
          "text": [
            "445\n",
            "(445, 200)\n"
          ],
          "name": "stdout"
        }
      ]
    },
    {
      "cell_type": "markdown",
      "metadata": {
        "id": "Mf4Wn2FlGWD8",
        "colab_type": "text"
      },
      "source": [
        "Ubah label ke dalam numerik."
      ]
    },
    {
      "cell_type": "code",
      "metadata": {
        "id": "IOTW7Pfjf2Ff",
        "colab_type": "code",
        "colab": {}
      },
      "source": [
        "label_tokenizer = Tokenizer()\n",
        "label_tokenizer.fit_on_texts(df_clean['category'])\n",
        "\n",
        "training_label_seq = np.array(label_tokenizer.texts_to_sequences(train_set['category']))\n",
        "validation_label_seq = np.array(label_tokenizer.texts_to_sequences(validation_set['category']))"
      ],
      "execution_count": 0,
      "outputs": []
    },
    {
      "cell_type": "code",
      "metadata": {
        "id": "dqchcdwEgQHd",
        "colab_type": "code",
        "outputId": "52c8c452-344d-45b7-d16d-72488a9b1d07",
        "colab": {
          "base_uri": "https://localhost:8080/",
          "height": 155
        }
      },
      "source": [
        "print(training_label_seq[0])\n",
        "print(training_label_seq[1])\n",
        "print(training_label_seq[2])\n",
        "print(training_label_seq.shape)\n",
        "\n",
        "print(validation_label_seq[0])\n",
        "print(validation_label_seq[1])\n",
        "print(validation_label_seq[2])\n",
        "print(validation_label_seq.shape)"
      ],
      "execution_count": 0,
      "outputs": [
        {
          "output_type": "stream",
          "text": [
            "[4]\n",
            "[2]\n",
            "[1]\n",
            "(1780, 1)\n",
            "[5]\n",
            "[4]\n",
            "[3]\n",
            "(445, 1)\n"
          ],
          "name": "stdout"
        }
      ]
    },
    {
      "cell_type": "markdown",
      "metadata": {
        "id": "IpLNjsq6Qhf1",
        "colab_type": "text"
      },
      "source": [
        "Sebelum kita mulai klasifikasi, mari kita lihat perubahan yang terjadi dari pada training data dalam format teks. Kata yang tidak ada dalam vocabulary (OOV) sudah digantikan dengan token khusus, dan ditambahkan `pad_token` yang didecode sebagai `?`."
      ]
    },
    {
      "cell_type": "code",
      "metadata": {
        "id": "b4RUFl9kihGp",
        "colab_type": "code",
        "outputId": "246dd17f-3a39-40b8-8124-60e241994ffa",
        "colab": {
          "base_uri": "https://localhost:8080/",
          "height": 89
        }
      },
      "source": [
        "reverse_word_index = dict([(value, key) for (key, value) in word_index.items()])\n",
        "\n",
        "def decode_article(text):\n",
        "    return ' '.join([reverse_word_index.get(i, '?') for i in text])\n",
        "print(decode_article(train_padded[10]))\n",
        "print('---')\n",
        "print(train_set['text'][10])"
      ],
      "execution_count": 0,
      "outputs": [
        {
          "output_type": "stream",
          "text": [
            "berlin <OOV> <OOV> film german movie <OOV> <OOV> <OOV> drawn <OOV> <OOV> berlin film festival <OOV> <OOV> final days <OOV> final days member white rose movement <OOV> arrested <OOV> brother <OOV> <OOV> <OOV> <OOV> <OOV> tyranny <OOV> <OOV> director marc <OOV> said feeling responsibility keep legacy <OOV> going must <OOV> keep ideas alive added film drew <OOV> <OOV> <OOV> <OOV> trial <OOV> <OOV> <OOV> east germany secret police discovery <OOV> behind film <OOV> worked closely <OOV> relatives including one <OOV> sisters ensure historical <OOV> film <OOV> members white rose <OOV> group first started <OOV> <OOV> <OOV> summer arrested dropped <OOV> <OOV> university calling day <OOV> <OOV> <OOV> regime film <OOV> six days <OOV> arrest intense trial saw <OOV> initially deny charges ended <OOV> appearance one three german films <OOV> top prize festival south african film version <OOV> <OOV> opera <OOV> shot <OOV> town <OOV> language also <OOV> berlin festival film entitled <OOV> <OOV> <OOV> <OOV> <OOV> story set performed music theatre <OOV> debut film performance film first south african feature years second nominated golden bear award ? ? ? ? ? ? ? ? ? ? ? ? ? ? ? ? ? ? ? ? ? ? ? ?\n",
            "---\n",
            "berlin cheers antinazi film german movie antinazi resistance heroine drawn loud applause berlin film festival sophie scholl final days portrays final days member white rose movement scholl arrested beheaded brother hans distributing leaflets condemning abhorrent tyranny adolf hitler director marc rothemund said feeling responsibility keep legacy scholls going must somehow keep ideas alive added film drew transcripts gestapo interrogations scholl trial preserved archive communist east germany secret police discovery inspiration behind film rothemund worked closely surviving relatives including one scholl sisters ensure historical accuracy film scholl members white rose resistance group first started distributing antinazi leaflets summer arrested dropped leaflets munich university calling day reckoning adolf hitler regime film focuses six days scholl arrest intense trial saw scholl initially deny charges ended defiant appearance one three german films vying top prize festival south african film version bizet tragic opera carmen shot cape town xhosa language also premiered berlin festival film entitled ucarmen ekhayelitsha carmen khayelitsha township story set performed music theatre troupe debut film performance film first south african feature years second nominated golden bear award\n"
          ],
          "name": "stdout"
        }
      ]
    },
    {
      "cell_type": "markdown",
      "metadata": {
        "id": "Rpw2aH1dRUwq",
        "colab_type": "text"
      },
      "source": [
        "### Model"
      ]
    },
    {
      "cell_type": "markdown",
      "metadata": {
        "id": "py2iD_i0SkLu",
        "colab_type": "text"
      },
      "source": [
        "Pertama kita perlu `Embedding` layer untuk mengubah token id menjadi vektor. Saat ini, weights dari embedding layer akan ditrain bersamaan dengan proses training semua layer.  \n",
        "Lalu sebuah `LSTM` layer dengan **jumlah `units`** dalam contoh ini yaitu 64.  \n",
        "Terakhir kita tambahkan 2 buah Dense layer."
      ]
    },
    {
      "cell_type": "code",
      "metadata": {
        "id": "_gdfiuZjiohw",
        "colab_type": "code",
        "outputId": "998e5322-61e0-4f80-d757-dcd333402621",
        "colab": {
          "base_uri": "https://localhost:8080/",
          "height": 417
        }
      },
      "source": [
        "model = tf.keras.Sequential([\n",
        "    tf.keras.layers.Embedding(vocab_size, embedding_dim),\n",
        "    tf.keras.layers.LSTM(embedding_dim),\n",
        "    tf.keras.layers.Dense(embedding_dim, activation='relu'),\n",
        "    tf.keras.layers.Dense(6, activation='softmax')\n",
        "])\n",
        "model.summary()"
      ],
      "execution_count": 0,
      "outputs": [
        {
          "output_type": "stream",
          "text": [
            "WARNING:tensorflow:From /usr/local/lib/python3.6/dist-packages/tensorflow_core/python/keras/initializers.py:119: calling RandomUniform.__init__ (from tensorflow.python.ops.init_ops) with dtype is deprecated and will be removed in a future version.\n",
            "Instructions for updating:\n",
            "Call initializer instance with the dtype argument instead of passing it to the constructor\n",
            "WARNING:tensorflow:From /usr/local/lib/python3.6/dist-packages/tensorflow_core/python/ops/resource_variable_ops.py:1630: calling BaseResourceVariable.__init__ (from tensorflow.python.ops.resource_variable_ops) with constraint is deprecated and will be removed in a future version.\n",
            "Instructions for updating:\n",
            "If using Keras pass *_constraint arguments to layers.\n",
            "Model: \"sequential\"\n",
            "_________________________________________________________________\n",
            "Layer (type)                 Output Shape              Param #   \n",
            "=================================================================\n",
            "embedding (Embedding)        (None, None, 64)          320000    \n",
            "_________________________________________________________________\n",
            "lstm (LSTM)                  (None, 64)                33024     \n",
            "_________________________________________________________________\n",
            "dense (Dense)                (None, 64)                4160      \n",
            "_________________________________________________________________\n",
            "dense_1 (Dense)              (None, 6)                 390       \n",
            "=================================================================\n",
            "Total params: 357,574\n",
            "Trainable params: 357,574\n",
            "Non-trainable params: 0\n",
            "_________________________________________________________________\n"
          ],
          "name": "stdout"
        }
      ]
    },
    {
      "cell_type": "code",
      "metadata": {
        "id": "r_5VAhh3i9m4",
        "colab_type": "code",
        "colab": {}
      },
      "source": [
        "model.compile(loss='sparse_categorical_crossentropy', optimizer='adam', metrics=['accuracy'])"
      ],
      "execution_count": 0,
      "outputs": []
    },
    {
      "cell_type": "markdown",
      "metadata": {
        "id": "GnEXdjmeTO54",
        "colab_type": "text"
      },
      "source": [
        "Train model yang telah dibuat."
      ]
    },
    {
      "cell_type": "code",
      "metadata": {
        "id": "ScxHIobGjB3r",
        "colab_type": "code",
        "outputId": "aa2a0313-1f4a-437d-c58a-f9907f1094da",
        "colab": {
          "base_uri": "https://localhost:8080/",
          "height": 452
        }
      },
      "source": [
        "num_epochs = 10\n",
        "history = model.fit(train_padded, training_label_seq, epochs=num_epochs, validation_data=(validation_padded, validation_label_seq), verbose=2)"
      ],
      "execution_count": 0,
      "outputs": [
        {
          "output_type": "stream",
          "text": [
            "WARNING:tensorflow:From /usr/local/lib/python3.6/dist-packages/tensorflow_core/python/ops/math_grad.py:1424: where (from tensorflow.python.ops.array_ops) is deprecated and will be removed in a future version.\n",
            "Instructions for updating:\n",
            "Use tf.where in 2.0, which has the same broadcast rule as np.where\n",
            "Train on 1780 samples, validate on 445 samples\n",
            "Epoch 1/10\n",
            "1780/1780 - 21s - loss: 1.5927 - acc: 0.3000 - val_loss: 1.4655 - val_acc: 0.3596\n",
            "Epoch 2/10\n",
            "1780/1780 - 20s - loss: 1.3892 - acc: 0.3775 - val_loss: 1.3646 - val_acc: 0.3820\n",
            "Epoch 3/10\n",
            "1780/1780 - 20s - loss: 1.2282 - acc: 0.3893 - val_loss: 1.1600 - val_acc: 0.4539\n",
            "Epoch 4/10\n",
            "1780/1780 - 20s - loss: 1.0712 - acc: 0.4466 - val_loss: 1.0753 - val_acc: 0.4517\n",
            "Epoch 5/10\n",
            "1780/1780 - 20s - loss: 1.0149 - acc: 0.4938 - val_loss: 1.0480 - val_acc: 0.4831\n",
            "Epoch 6/10\n",
            "1780/1780 - 20s - loss: 0.9291 - acc: 0.5539 - val_loss: 0.9535 - val_acc: 0.5663\n",
            "Epoch 7/10\n",
            "1780/1780 - 20s - loss: 1.2307 - acc: 0.4483 - val_loss: 1.2483 - val_acc: 0.3303\n",
            "Epoch 8/10\n",
            "1780/1780 - 21s - loss: 1.3749 - acc: 0.4185 - val_loss: 1.4938 - val_acc: 0.4315\n",
            "Epoch 9/10\n",
            "1780/1780 - 20s - loss: 1.1763 - acc: 0.5343 - val_loss: 1.1747 - val_acc: 0.5551\n",
            "Epoch 10/10\n",
            "1780/1780 - 21s - loss: 1.0216 - acc: 0.5461 - val_loss: 1.1395 - val_acc: 0.4944\n"
          ],
          "name": "stdout"
        }
      ]
    },
    {
      "cell_type": "markdown",
      "metadata": {
        "id": "K1bXo93sTVEQ",
        "colab_type": "text"
      },
      "source": [
        "Plot accuracy dan error dari traning dan validation. Terlihat dalam 10 epochs, akurasi validasi di sekitar 50%."
      ]
    },
    {
      "cell_type": "code",
      "metadata": {
        "id": "9eiob55_jF5Z",
        "colab_type": "code",
        "outputId": "c06569a9-6016-41a2-b72e-a8b701232010",
        "colab": {
          "base_uri": "https://localhost:8080/",
          "height": 541
        }
      },
      "source": [
        "\n",
        "def plot_graphs(history, string):\n",
        "  plt.plot(history.history[string])\n",
        "  plt.plot(history.history['val_'+string])\n",
        "  plt.xlabel(\"Epochs\")\n",
        "  plt.ylabel(string)\n",
        "  plt.legend([string, 'val_'+string])\n",
        "  plt.show()\n",
        "  \n",
        "plot_graphs(history, \"acc\")\n",
        "plot_graphs(history, \"loss\")"
      ],
      "execution_count": 0,
      "outputs": [
        {
          "output_type": "display_data",
          "data": {
            "image/png": "[encoded data removed]",
            "text/plain": [
              "<Figure size 432x288 with 1 Axes>"
            ]
          },
          "metadata": {
            "tags": []
          }
        },
        {
          "output_type": "display_data",
          "data": {
            "image/png": "[encoded data removed]",
            "text/plain": [
              "<Figure size 432x288 with 1 Axes>"
            ]
          },
          "metadata": {
            "tags": []
          }
        }
      ]
    },
    {
      "cell_type": "markdown",
      "metadata": {
        "id": "3hdUQZ92tc4D",
        "colab_type": "text"
      },
      "source": [
        "## BiLSTM"
      ]
    },
    {
      "cell_type": "markdown",
      "metadata": {
        "id": "NavxSQ69TtM-",
        "colab_type": "text"
      },
      "source": [
        "Sekarang kita akan coba menggunakan Bidirectional LSTM. `tf.keras` sudah menyiapkan layer khusus yang langsung bisa digunakan, yaitu `tf.keras.layers.Bidirectional`. Terlihat bahwa jumlah parameter pada layer bidirectional tepat 2 kali jumlah parameter di LSTM biasa."
      ]
    },
    {
      "cell_type": "code",
      "metadata": {
        "id": "3YIyVTI5l1TZ",
        "colab_type": "code",
        "outputId": "4482b697-d24c-4f85-f878-b282345b453b",
        "colab": {
          "base_uri": "https://localhost:8080/",
          "height": 469
        }
      },
      "source": [
        "model_bi = tf.keras.Sequential([\n",
        "    tf.keras.layers.Embedding(vocab_size, embedding_dim),\n",
        "    tf.keras.layers.Bidirectional(tf.keras.layers.LSTM(embedding_dim)),\n",
        "    tf.keras.layers.Dense(embedding_dim, activation='relu'),\n",
        "    tf.keras.layers.Dense(6, activation='softmax')\n",
        "])\n",
        "model_bi.summary()"
      ],
      "execution_count": 0,
      "outputs": [
        {
          "output_type": "stream",
          "text": [
            "WARNING:tensorflow:From /usr/local/lib/python3.6/dist-packages/tensorflow_core/python/ops/init_ops.py:97: calling GlorotUniform.__init__ (from tensorflow.python.ops.init_ops) with dtype is deprecated and will be removed in a future version.\n",
            "Instructions for updating:\n",
            "Call initializer instance with the dtype argument instead of passing it to the constructor\n",
            "WARNING:tensorflow:From /usr/local/lib/python3.6/dist-packages/tensorflow_core/python/ops/init_ops.py:97: calling Orthogonal.__init__ (from tensorflow.python.ops.init_ops) with dtype is deprecated and will be removed in a future version.\n",
            "Instructions for updating:\n",
            "Call initializer instance with the dtype argument instead of passing it to the constructor\n",
            "WARNING:tensorflow:From /usr/local/lib/python3.6/dist-packages/tensorflow_core/python/ops/init_ops.py:97: calling Zeros.__init__ (from tensorflow.python.ops.init_ops) with dtype is deprecated and will be removed in a future version.\n",
            "Instructions for updating:\n",
            "Call initializer instance with the dtype argument instead of passing it to the constructor\n",
            "Model: \"sequential_1\"\n",
            "_________________________________________________________________\n",
            "Layer (type)                 Output Shape              Param #   \n",
            "=================================================================\n",
            "embedding_1 (Embedding)      (None, None, 64)          320000    \n",
            "_________________________________________________________________\n",
            "bidirectional (Bidirectional (None, 128)               66048     \n",
            "_________________________________________________________________\n",
            "dense_2 (Dense)              (None, 64)                8256      \n",
            "_________________________________________________________________\n",
            "dense_3 (Dense)              (None, 6)                 390       \n",
            "=================================================================\n",
            "Total params: 394,694\n",
            "Trainable params: 394,694\n",
            "Non-trainable params: 0\n",
            "_________________________________________________________________\n"
          ],
          "name": "stdout"
        }
      ]
    },
    {
      "cell_type": "code",
      "metadata": {
        "id": "kBMocRcmp9HC",
        "colab_type": "code",
        "outputId": "4e102c34-aa42-4654-8536-05361c8f57ea",
        "colab": {
          "base_uri": "https://localhost:8080/",
          "height": 380
        }
      },
      "source": [
        "model_bi.compile(loss='sparse_categorical_crossentropy', optimizer='adam', metrics=['accuracy'])\n",
        "history = model_bi.fit(train_padded, training_label_seq, epochs=num_epochs, validation_data=(validation_padded, validation_label_seq), verbose=2)"
      ],
      "execution_count": 0,
      "outputs": [
        {
          "output_type": "stream",
          "text": [
            "Train on 1780 samples, validate on 445 samples\n",
            "Epoch 1/10\n",
            "1780/1780 - 38s - loss: 1.5803 - acc: 0.2949 - val_loss: 1.2116 - val_acc: 0.5978\n",
            "Epoch 2/10\n",
            "1780/1780 - 38s - loss: 1.1086 - acc: 0.5152 - val_loss: 1.1283 - val_acc: 0.5596\n",
            "Epoch 3/10\n",
            "1780/1780 - 38s - loss: 0.6730 - acc: 0.7427 - val_loss: 0.4814 - val_acc: 0.8360\n",
            "Epoch 4/10\n",
            "1780/1780 - 38s - loss: 0.2612 - acc: 0.9180 - val_loss: 0.2601 - val_acc: 0.9124\n",
            "Epoch 5/10\n",
            "1780/1780 - 38s - loss: 0.1472 - acc: 0.9562 - val_loss: 0.3501 - val_acc: 0.8831\n",
            "Epoch 6/10\n",
            "1780/1780 - 38s - loss: 0.0666 - acc: 0.9831 - val_loss: 0.2693 - val_acc: 0.9146\n",
            "Epoch 7/10\n",
            "1780/1780 - 38s - loss: 0.0265 - acc: 0.9938 - val_loss: 0.2369 - val_acc: 0.9326\n",
            "Epoch 8/10\n",
            "1780/1780 - 38s - loss: 0.0093 - acc: 0.9978 - val_loss: 0.2719 - val_acc: 0.9258\n",
            "Epoch 9/10\n",
            "1780/1780 - 38s - loss: 0.0027 - acc: 1.0000 - val_loss: 0.2579 - val_acc: 0.9191\n",
            "Epoch 10/10\n",
            "1780/1780 - 38s - loss: 0.0013 - acc: 1.0000 - val_loss: 0.2837 - val_acc: 0.9258\n"
          ],
          "name": "stdout"
        }
      ]
    },
    {
      "cell_type": "code",
      "metadata": {
        "id": "5ZT12ZikqJmL",
        "colab_type": "code",
        "outputId": "4cd2554a-d73c-4676-e7a3-d2016418e7ce",
        "colab": {
          "base_uri": "https://localhost:8080/",
          "height": 541
        }
      },
      "source": [
        "plot_graphs(history, \"acc\")\n",
        "plot_graphs(history, \"loss\")"
      ],
      "execution_count": 0,
      "outputs": [
        {
          "output_type": "display_data",
          "data": {
            "image/png": "[encoded data removed]",
            "text/plain": [
              "<Figure size 432x288 with 1 Axes>"
            ]
          },
          "metadata": {
            "tags": []
          }
        },
        {
          "output_type": "display_data",
          "data": {
            "image/png": "[encoded data removed]",
            "text/plain": [
              "<Figure size 432x288 with 1 Axes>"
            ]
          },
          "metadata": {
            "tags": []
          }
        }
      ]
    },
    {
      "cell_type": "markdown",
      "metadata": {
        "id": "YDhJ8JcFvF4J",
        "colab_type": "text"
      },
      "source": [
        "## CNN"
      ]
    },
    {
      "cell_type": "markdown",
      "metadata": {
        "id": "I9-4yOVaUWK9",
        "colab_type": "text"
      },
      "source": [
        "Salah satu alasan menggunakan Bidirectional adalah perlunya kemampuan melihat input di depan (tidak hanya input sebelumnya). Maka Bidirectional bukan satu-satunya alternatif. CNN juga bisa menjadi alternatif karena CNN akan melihat beberapa input sebelum dan sesudah berdasarkan size filter yang diberikan.  \n",
        "  \n",
        "Di bawah ini, kita coba menggunakan jumlah filter sebanyak 128 dengan ukuran kernel 5."
      ]
    },
    {
      "cell_type": "code",
      "metadata": {
        "id": "cQR8NCrasf6f",
        "colab_type": "code",
        "outputId": "e8f568c8-f7f7-4aa3-e9ab-226fb3c95014",
        "colab": {
          "base_uri": "https://localhost:8080/"
        }
      },
      "source": [
        "model_cnn = tf.keras.Sequential([\n",
        "    tf.keras.layers.Embedding(vocab_size, embedding_dim,\n",
        "                             input_length=max_length),\n",
        "    # specify the number of convolutions that you want to learn, their size, and their activation function.\n",
        "    # words will be grouped into the size of the filter in this case 5\n",
        "    tf.keras.layers.Conv1D(128, 5, activation='relu'),\n",
        "    tf.keras.layers.GlobalAveragePooling1D(),\n",
        "    tf.keras.layers.Dense(64, activation='relu'),\n",
        "    tf.keras.layers.Dense(6, activation='softmax')\n",
        "])\n",
        "model_cnn.summary()"
      ],
      "execution_count": 0,
      "outputs": [
        {
          "output_type": "stream",
          "text": [
            "Model: \"sequential_2\"\n",
            "_________________________________________________________________\n",
            "Layer (type)                 Output Shape              Param #   \n",
            "=================================================================\n",
            "embedding_2 (Embedding)      (None, 200, 64)           320000    \n",
            "_________________________________________________________________\n",
            "conv1d (Conv1D)              (None, 196, 128)          41088     \n",
            "_________________________________________________________________\n",
            "global_average_pooling1d (Gl (None, 128)               0         \n",
            "_________________________________________________________________\n",
            "dense_4 (Dense)              (None, 64)                8256      \n",
            "_________________________________________________________________\n",
            "dense_5 (Dense)              (None, 6)                 390       \n",
            "=================================================================\n",
            "Total params: 369,734\n",
            "Trainable params: 369,734\n",
            "Non-trainable params: 0\n",
            "_________________________________________________________________\n"
          ],
          "name": "stdout"
        }
      ]
    },
    {
      "cell_type": "code",
      "metadata": {
        "id": "2RQtIMMFvL2v",
        "colab_type": "code",
        "outputId": "359afeeb-a0c1-41ad-f3b3-29d59284cc84",
        "colab": {
          "base_uri": "https://localhost:8080/",
          "height": 380
        }
      },
      "source": [
        "model_cnn.compile(loss='sparse_categorical_crossentropy', optimizer='adam', metrics=['accuracy'])\n",
        "history = model_cnn.fit(train_padded, training_label_seq, epochs=num_epochs, validation_data=(validation_padded, validation_label_seq), verbose=2)"
      ],
      "execution_count": 0,
      "outputs": [
        {
          "output_type": "stream",
          "text": [
            "Train on 1780 samples, validate on 445 samples\n",
            "Epoch 1/10\n",
            "1780/1780 - 1s - loss: 1.5513 - acc: 0.4298 - val_loss: 1.1195 - val_acc: 0.7775\n",
            "Epoch 2/10\n",
            "1780/1780 - 0s - loss: 0.5670 - acc: 0.8798 - val_loss: 0.2479 - val_acc: 0.9483\n",
            "Epoch 3/10\n",
            "1780/1780 - 0s - loss: 0.0999 - acc: 0.9803 - val_loss: 0.1303 - val_acc: 0.9618\n",
            "Epoch 4/10\n",
            "1780/1780 - 0s - loss: 0.0316 - acc: 0.9961 - val_loss: 0.0958 - val_acc: 0.9685\n",
            "Epoch 5/10\n",
            "1780/1780 - 0s - loss: 0.0129 - acc: 1.0000 - val_loss: 0.0974 - val_acc: 0.9685\n",
            "Epoch 6/10\n",
            "1780/1780 - 0s - loss: 0.0069 - acc: 1.0000 - val_loss: 0.0871 - val_acc: 0.9753\n",
            "Epoch 7/10\n",
            "1780/1780 - 0s - loss: 0.0042 - acc: 1.0000 - val_loss: 0.0853 - val_acc: 0.9730\n",
            "Epoch 8/10\n",
            "1780/1780 - 0s - loss: 0.0029 - acc: 1.0000 - val_loss: 0.0829 - val_acc: 0.9730\n",
            "Epoch 9/10\n",
            "1780/1780 - 0s - loss: 0.0021 - acc: 1.0000 - val_loss: 0.0841 - val_acc: 0.9753\n",
            "Epoch 10/10\n",
            "1780/1780 - 0s - loss: 0.0016 - acc: 1.0000 - val_loss: 0.0842 - val_acc: 0.9753\n"
          ],
          "name": "stdout"
        }
      ]
    },
    {
      "cell_type": "markdown",
      "metadata": {
        "id": "okxgga5WVVhz",
        "colab_type": "text"
      },
      "source": [
        "Dari plot, kita bisa lihat bahwa hasilnya hampir sama dengan model BiLSTM bahkan terlihat sedikit lebih baik."
      ]
    },
    {
      "cell_type": "code",
      "metadata": {
        "id": "lrLBtfH-vacD",
        "colab_type": "code",
        "outputId": "52de5d14-de32-4bb6-f33f-f168d7597000",
        "colab": {
          "base_uri": "https://localhost:8080/",
          "height": 542
        }
      },
      "source": [
        "plot_graphs(history, \"acc\")\n",
        "plot_graphs(history, \"loss\")"
      ],
      "execution_count": 0,
      "outputs": [
        {
          "output_type": "display_data",
          "data": {
            "image/png": "[encoded data removed]",
            "text/plain": [
              "<Figure size 432x288 with 1 Axes>"
            ]
          },
          "metadata": {
            "tags": []
          }
        },
        {
          "output_type": "display_data",
          "data": {
            "image/png": "[encoded data removed]",
            "text/plain": [
              "<Figure size 432x288 with 1 Axes>"
            ]
          },
          "metadata": {
            "tags": []
          }
        }
      ]
    },
    {
      "cell_type": "markdown",
      "metadata": {
        "id": "3pfNJKstwvjR",
        "colab_type": "text"
      },
      "source": [
        "## Glove+CNN+LSTM"
      ]
    },
    {
      "cell_type": "markdown",
      "metadata": {
        "id": "OloQ7-frVrAB",
        "colab_type": "text"
      },
      "source": [
        "Kali ini kita coba untuk menggabungkan beberapa komponen, yaitu menggunakan `pretrained embedding matrix`, bisa menggunakan word2vec, namun di sini kita coba menggunakan Glove. Info tentang Glove: https://nlp.stanford.edu/projects/glove/. Ada beberapa pilihan Glove, kita coba menggunakan 100 dimensi.\n",
        "\n",
        "Lalu kita tambahkan CNN dan LSTM setelahnya."
      ]
    },
    {
      "cell_type": "code",
      "metadata": {
        "id": "KcSHcYBOzOHm",
        "colab_type": "code",
        "colab": {}
      },
      "source": [
        "word_index = tokenizer.word_index\n",
        "vocab_size=len(word_index)\n",
        "embedding_dim = 100"
      ],
      "execution_count": 0,
      "outputs": []
    },
    {
      "cell_type": "markdown",
      "metadata": {
        "id": "e4HRAgALWQNt",
        "colab_type": "text"
      },
      "source": [
        "Bentuk `embeddings_matrix` yang hanya berisi vektor kata yang ada dalam kamus dataset yang kita gunakan saat ini (BBC train)."
      ]
    },
    {
      "cell_type": "code",
      "metadata": {
        "id": "vjd5K5yd0ADl",
        "colab_type": "code",
        "outputId": "81f05ddd-e5e3-4e2a-ea7a-777eedba3452",
        "colab": {
          "base_uri": "https://localhost:8080/",
          "height": 235
        }
      },
      "source": [
        "embeddings_index = {};\n",
        "with open('glove.6B.100d.txt') as f:\n",
        "    for line in f:\n",
        "        values = line.split();\n",
        "        word = values[0];\n",
        "        coefs = np.asarray(values[1:], dtype='float32')\n",
        "        embeddings_index[word] = coefs;\n",
        "\n",
        "\n",
        "\n",
        "embeddings_matrix = np.zeros((vocab_size+1, embedding_dim))\n",
        "for word, i in word_index.items():\n",
        "    embedding_vector = embeddings_index.get(word)\n",
        "    if embedding_vector is not None:\n",
        "        embeddings_matrix[i] = embedding_vector"
      ],
      "execution_count": 0,
      "outputs": [
        {
          "output_type": "error",
          "ename": "FileNotFoundError",
          "evalue": "ignored",
          "traceback": [
            "\u001b[0;31m---------------------------------------------------------------------------\u001b[0m",
            "\u001b[0;31mFileNotFoundError\u001b[0m                         Traceback (most recent call last)",
            "\u001b[0;32m<ipython-input-52-85df742b3c00>\u001b[0m in \u001b[0;36m<module>\u001b[0;34m()\u001b[0m\n\u001b[1;32m      1\u001b[0m \u001b[0membeddings_index\u001b[0m \u001b[0;34m=\u001b[0m \u001b[0;34m{\u001b[0m\u001b[0;34m}\u001b[0m\u001b[0;34m;\u001b[0m\u001b[0;34m\u001b[0m\u001b[0;34m\u001b[0m\u001b[0m\n\u001b[0;32m----> 2\u001b[0;31m \u001b[0;32mwith\u001b[0m \u001b[0mopen\u001b[0m\u001b[0;34m(\u001b[0m\u001b[0;34m'glove.6B.100d.txt'\u001b[0m\u001b[0;34m)\u001b[0m \u001b[0;32mas\u001b[0m \u001b[0mf\u001b[0m\u001b[0;34m:\u001b[0m\u001b[0;34m\u001b[0m\u001b[0;34m\u001b[0m\u001b[0m\n\u001b[0m\u001b[1;32m      3\u001b[0m     \u001b[0;32mfor\u001b[0m \u001b[0mline\u001b[0m \u001b[0;32min\u001b[0m \u001b[0mf\u001b[0m\u001b[0;34m:\u001b[0m\u001b[0;34m\u001b[0m\u001b[0;34m\u001b[0m\u001b[0m\n\u001b[1;32m      4\u001b[0m         \u001b[0mvalues\u001b[0m \u001b[0;34m=\u001b[0m \u001b[0mline\u001b[0m\u001b[0;34m.\u001b[0m\u001b[0msplit\u001b[0m\u001b[0;34m(\u001b[0m\u001b[0;34m)\u001b[0m\u001b[0;34m;\u001b[0m\u001b[0;34m\u001b[0m\u001b[0;34m\u001b[0m\u001b[0m\n\u001b[1;32m      5\u001b[0m         \u001b[0mword\u001b[0m \u001b[0;34m=\u001b[0m \u001b[0mvalues\u001b[0m\u001b[0;34m[\u001b[0m\u001b[0;36m0\u001b[0m\u001b[0;34m]\u001b[0m\u001b[0;34m;\u001b[0m\u001b[0;34m\u001b[0m\u001b[0;34m\u001b[0m\u001b[0m\n",
            "\u001b[0;31mFileNotFoundError\u001b[0m: [Errno 2] No such file or directory: 'glove.6B.100d.txt'"
          ]
        }
      ]
    },
    {
      "cell_type": "markdown",
      "metadata": {
        "id": "9Fx_e5YrWp8J",
        "colab_type": "text"
      },
      "source": [
        "Karena kita sudah menggunakan pretrained embeddings matrix, maka kita bisa set agar tidak mengupdate/learn weights nya. Set `trainable=False`.  \n",
        "Dari summary model terlihat bahwa meskipun jumlah total parameter jauh lebih banyak dari model-model sebelumnya, namun yang ditrain jauh lebih sedikit."
      ]
    },
    {
      "cell_type": "code",
      "metadata": {
        "id": "UoOjhEA50Xq4",
        "colab_type": "code",
        "colab": {}
      },
      "source": [
        "model_combi = tf.keras.Sequential([\n",
        "    tf.keras.layers.Embedding(vocab_size+1, embedding_dim, input_length=max_length, weights=[embeddings_matrix], trainable=False),\n",
        "    tf.keras.layers.Dropout(0.2),\n",
        "    tf.keras.layers.Conv1D(64, 5, activation='relu'),\n",
        "    tf.keras.layers.MaxPooling1D(pool_size=4),\n",
        "    tf.keras.layers.LSTM(64),\n",
        "    tf.keras.layers.Dense(6, activation='softmax')\n",
        "])\n",
        "model_combi.compile(loss='sparse_categorical_crossentropy',optimizer='adam',metrics=['accuracy'])\n",
        "model_combi.summary()"
      ],
      "execution_count": 0,
      "outputs": []
    },
    {
      "cell_type": "code",
      "metadata": {
        "id": "rHIW1g-b03L0",
        "colab_type": "code",
        "colab": {}
      },
      "source": [
        "model_combi.compile(loss='sparse_categorical_crossentropy', optimizer='adam', metrics=['accuracy'])\n",
        "history = model_combi.fit(train_padded, training_label_seq, epochs=num_epochs, validation_data=(validation_padded, validation_label_seq), verbose=2)"
      ],
      "execution_count": 0,
      "outputs": []
    },
    {
      "cell_type": "markdown",
      "metadata": {
        "id": "OG7gbVvjXUD6",
        "colab_type": "text"
      },
      "source": [
        "Salah satu perbedaan yang terlihat adalah, hasil akurasi validasi pada epoch 1 sudah >80%, dibanding model sebelumnya yang berkisar 50%. Hal ini merupakan efek penggunaan pretrained word embeddings."
      ]
    },
    {
      "cell_type": "code",
      "metadata": {
        "id": "zKqtsRkX1H1b",
        "colab_type": "code",
        "colab": {}
      },
      "source": [
        "plot_graphs(history, \"acc\")\n",
        "plot_graphs(history, \"loss\")"
      ],
      "execution_count": 0,
      "outputs": []
    },
    {
      "cell_type": "markdown",
      "metadata": {
        "id": "w0Asl9BBG0hE",
        "colab_type": "text"
      },
      "source": [
        "## Transformers"
      ]
    },
    {
      "cell_type": "markdown",
      "metadata": {
        "id": "eqnXgprxXxY6",
        "colab_type": "text"
      },
      "source": [
        "Terakhir, mari kita coba menggunakan pretrained contextual word embeddings. Transformers menyediakan banyak sekali pilihan."
      ]
    },
    {
      "cell_type": "markdown",
      "metadata": {
        "id": "tFNNk7BQHME4",
        "colab_type": "text"
      },
      "source": [
        "Install transformers dari huggingface https://huggingface.co/."
      ]
    },
    {
      "cell_type": "code",
      "metadata": {
        "id": "P-t4M8yK9z4M",
        "colab_type": "code",
        "colab": {}
      },
      "source": [
        "!pip install transformers"
      ],
      "execution_count": 0,
      "outputs": []
    },
    {
      "cell_type": "markdown",
      "metadata": {
        "id": "psxejKxaHVA_",
        "colab_type": "text"
      },
      "source": [
        "Import beberapa library yang dibutuhkan."
      ]
    },
    {
      "cell_type": "code",
      "metadata": {
        "id": "uP6XBDjE1WYD",
        "colab_type": "code",
        "colab": {}
      },
      "source": [
        "import torch\n",
        "import transformers as tfm # pytorch transformers\n",
        "from sklearn.linear_model import LogisticRegression"
      ],
      "execution_count": 0,
      "outputs": []
    },
    {
      "cell_type": "markdown",
      "metadata": {
        "id": "O3YDI3q9IbGQ",
        "colab_type": "text"
      },
      "source": [
        "Ada banyak model transformer yang bisa digunakan, saat ini kita coba menggunakan distilBERT. Model lainnya dapat dilihat di https://huggingface.co/transformers/pretrained_models.html"
      ]
    },
    {
      "cell_type": "code",
      "metadata": {
        "id": "A7G0Abvj9lWS",
        "colab_type": "code",
        "colab": {}
      },
      "source": [
        "model_class, tokenizer_class, pretrained_weights = (tfm.DistilBertModel, tfm.DistilBertTokenizer, 'distilbert-base-uncased')"
      ],
      "execution_count": 0,
      "outputs": []
    },
    {
      "cell_type": "markdown",
      "metadata": {
        "id": "yK0QISwPIw0R",
        "colab_type": "text"
      },
      "source": [
        "Load tokenizer dan juga model."
      ]
    },
    {
      "cell_type": "code",
      "metadata": {
        "id": "lV9JkIOK-1FE",
        "colab_type": "code",
        "colab": {}
      },
      "source": [
        "tokenizer = tokenizer_class.from_pretrained(pretrained_weights)\n",
        "model = model_class.from_pretrained(pretrained_weights)"
      ],
      "execution_count": 0,
      "outputs": []
    },
    {
      "cell_type": "markdown",
      "metadata": {
        "id": "MKBBveH7I0ps",
        "colab_type": "text"
      },
      "source": [
        "Tokenize train_set dan juga validation_set. "
      ]
    },
    {
      "cell_type": "code",
      "metadata": {
        "id": "fTQi47we-CYp",
        "colab_type": "code",
        "colab": {}
      },
      "source": [
        "train_sequences = train_set['text'].apply((lambda x: tokenizer.encode(x, add_special_tokens=True)))"
      ],
      "execution_count": 0,
      "outputs": []
    },
    {
      "cell_type": "code",
      "metadata": {
        "id": "MKVCz6sO-pCR",
        "colab_type": "code",
        "colab": {}
      },
      "source": [
        "validation_sequences = validation_set['text'].apply((lambda x: tokenizer.encode(x, add_special_tokens=True)))"
      ],
      "execution_count": 0,
      "outputs": []
    },
    {
      "cell_type": "code",
      "metadata": {
        "id": "uiDbJML3_IQm",
        "colab_type": "code",
        "colab": {}
      },
      "source": [
        "train_padded = pad_sequences(train_sequences, maxlen=max_length, padding=padding_type, truncating=trunc_type)"
      ],
      "execution_count": 0,
      "outputs": []
    },
    {
      "cell_type": "code",
      "metadata": {
        "id": "u43BlzLF_yBa",
        "colab_type": "code",
        "colab": {}
      },
      "source": [
        "validation_padded = pad_sequences(validation_sequences, maxlen=max_length, padding=padding_type, truncating=trunc_type)"
      ],
      "execution_count": 0,
      "outputs": []
    },
    {
      "cell_type": "markdown",
      "metadata": {
        "id": "2SY7No_2Jz-h",
        "colab_type": "text"
      },
      "source": [
        "Ubah `train_padded` dan `validation_padded` ke dalam bentuk tensor. Lalu jalankan model (forward pass). DistilBERT memiliki hidden unit sebanyak 768."
      ]
    },
    {
      "cell_type": "code",
      "metadata": {
        "id": "gqewXSNB__Cb",
        "colab_type": "code",
        "colab": {}
      },
      "source": [
        "train_ids = torch.tensor(np.array(train_padded)).to(torch.int64)\n",
        "with torch.no_grad():\n",
        "    train_last_hidden_states = model(train_ids)"
      ],
      "execution_count": 0,
      "outputs": []
    },
    {
      "cell_type": "code",
      "metadata": {
        "id": "pZCYzPZcF5Ih",
        "colab_type": "code",
        "colab": {}
      },
      "source": [
        "validation_ids = torch.tensor(np.array(validation_padded)).to(torch.int64)\n",
        "with torch.no_grad():\n",
        "    validation_last_hidden_states = model(validation_ids)"
      ],
      "execution_count": 0,
      "outputs": []
    },
    {
      "cell_type": "markdown",
      "metadata": {
        "id": "whSJAgCSYJ48",
        "colab_type": "text"
      },
      "source": [
        "Shape dari `last_hidden_states` yaitu `[jumlah data, panjang sekuens, jumlah hidden units]`."
      ]
    },
    {
      "cell_type": "code",
      "metadata": {
        "id": "nGpIyhLUAJCS",
        "colab_type": "code",
        "colab": {}
      },
      "source": [
        "train_last_hidden_states[0].shape"
      ],
      "execution_count": 0,
      "outputs": []
    },
    {
      "cell_type": "markdown",
      "metadata": {
        "id": "bmxhgm2kYZOB",
        "colab_type": "text"
      },
      "source": [
        "Untuk teks classification, kita bisa menggunakan hanya output posisi pertama dari 200 output yang dikeluarkan model. Karena terdapat self-attention di dalam model tersebut, maka setiap posisi output akan memiliki aliran informasi dari semua posisi input, tidak hanya dari posisi input yang bersesuaian."
      ]
    },
    {
      "cell_type": "code",
      "metadata": {
        "id": "wqukCU22C4gz",
        "colab_type": "code",
        "colab": {}
      },
      "source": [
        "train_features = train_last_hidden_states[0][:,0,:].numpy()"
      ],
      "execution_count": 0,
      "outputs": []
    },
    {
      "cell_type": "code",
      "metadata": {
        "id": "eFXaueUNGotp",
        "colab_type": "code",
        "colab": {}
      },
      "source": [
        "validation_features = validation_last_hidden_states[0][:,0,:].numpy()"
      ],
      "execution_count": 0,
      "outputs": []
    },
    {
      "cell_type": "code",
      "metadata": {
        "id": "80uMx-PiD-bX",
        "colab_type": "code",
        "colab": {}
      },
      "source": [
        "train_features[0]"
      ],
      "execution_count": 0,
      "outputs": []
    },
    {
      "cell_type": "code",
      "metadata": {
        "id": "gIIuKhDvETKr",
        "colab_type": "code",
        "colab": {}
      },
      "source": [
        "train_label = training_label_seq.squeeze()\n",
        "validation_label = validation_label_seq.squeeze()"
      ],
      "execution_count": 0,
      "outputs": []
    },
    {
      "cell_type": "markdown",
      "metadata": {
        "id": "V1wRsY-bZD71",
        "colab_type": "text"
      },
      "source": [
        "Coba gunakan logistic regression sederhana untuk melakukan klasifikasi."
      ]
    },
    {
      "cell_type": "code",
      "metadata": {
        "id": "qEmGR2zOD0CR",
        "colab_type": "code",
        "colab": {}
      },
      "source": [
        "lr_clf = LogisticRegression(max_iter=500)\n",
        "lr_clf.fit(train_features, train_label)"
      ],
      "execution_count": 0,
      "outputs": []
    },
    {
      "cell_type": "markdown",
      "metadata": {
        "id": "lx5vgLZMZIiv",
        "colab_type": "text"
      },
      "source": [
        "Ternyata akurasi train dan validationnya cukup tinggi."
      ]
    },
    {
      "cell_type": "code",
      "metadata": {
        "id": "y2oxzLNWEvOu",
        "colab_type": "code",
        "colab": {}
      },
      "source": [
        "lr_clf.score(train_features, train_label)"
      ],
      "execution_count": 0,
      "outputs": []
    },
    {
      "cell_type": "code",
      "metadata": {
        "id": "7kPC7Lv2FgJz",
        "colab_type": "code",
        "colab": {}
      },
      "source": [
        "lr_clf.score(validation_features, validation_label)"
      ],
      "execution_count": 0,
      "outputs": []
    },
    {
      "cell_type": "markdown",
      "metadata": {
        "id": "XKagruArjKMn",
        "colab_type": "text"
      },
      "source": [
        "## PoS Tagging with LSTM"
      ]
    },
    {
      "cell_type": "markdown",
      "metadata": {
        "id": "TtvQdy0QjzdL",
        "colab_type": "text"
      },
      "source": [
        "Originally from https://nlpforhackers.io/lstm-pos-tagger-keras/"
      ]
    },
    {
      "cell_type": "code",
      "metadata": {
        "id": "_uLL4og6jKrO",
        "colab_type": "code",
        "colab": {}
      },
      "source": [
        "import nltk\n",
        "import numpy as np\n",
        "\n",
        "nltk.download('treebank')\n",
        " \n",
        "tagged_sentences = nltk.corpus.treebank.tagged_sents()\n",
        " \n",
        "print(tagged_sentences[0])\n",
        "print(\"Tagged sentences: \", len(tagged_sentences))\n",
        "print(\"Tagged words:\", len(nltk.corpus.treebank.tagged_words()))"
      ],
      "execution_count": 0,
      "outputs": []
    },
    {
      "cell_type": "code",
      "metadata": {
        "id": "SfvbWcTJjRCC",
        "colab_type": "code",
        "colab": {}
      },
      "source": [
        "sentences, sentence_tags =[], [] \n",
        "for tagged_sentence in tagged_sentences:\n",
        "    sentence, tags = zip(*tagged_sentence)\n",
        "    sentences.append(np.array(sentence))\n",
        "    sentence_tags.append(np.array(tags))\n",
        " \n",
        "# Let's see how a sequence looks\n",
        " \n",
        "print(sentences[5])\n",
        "print(sentence_tags[5])"
      ],
      "execution_count": 0,
      "outputs": []
    },
    {
      "cell_type": "code",
      "metadata": {
        "id": "5x8crBYTjVCr",
        "colab_type": "code",
        "colab": {}
      },
      "source": [
        "from sklearn.model_selection import train_test_split\n",
        "\n",
        "(train_sentences, \n",
        " test_sentences, \n",
        " train_tags, \n",
        " test_tags) = train_test_split(sentences, sentence_tags, test_size=0.2)"
      ],
      "execution_count": 0,
      "outputs": []
    },
    {
      "cell_type": "code",
      "metadata": {
        "id": "FOiP1rtFjYTI",
        "colab_type": "code",
        "colab": {}
      },
      "source": [
        "words, tags = set([]), set([])\n",
        " \n",
        "for s in train_sentences:\n",
        "    for w in s:\n",
        "        words.add(w.lower())\n",
        " \n",
        "for ts in train_tags:\n",
        "    for t in ts:\n",
        "        tags.add(t)\n",
        " \n",
        "word2index = {w: i + 2 for i, w in enumerate(list(words))}\n",
        "word2index['-PAD-'] = 0  # The special value used for padding\n",
        "word2index['-OOV-'] = 1  # The special value used for OOVs\n",
        " \n",
        "tag2index = {t: i + 1 for i, t in enumerate(list(tags))}\n",
        "tag2index['-PAD-'] = 0  # The special value used to padding"
      ],
      "execution_count": 0,
      "outputs": []
    },
    {
      "cell_type": "code",
      "metadata": {
        "id": "dZ4Yb45GjbNR",
        "colab_type": "code",
        "colab": {}
      },
      "source": [
        "train_sentences_X, test_sentences_X, train_tags_y, test_tags_y = [], [], [], []\n",
        " \n",
        "for s in train_sentences:\n",
        "    s_int = []\n",
        "    for w in s:\n",
        "        try:\n",
        "            s_int.append(word2index[w.lower()])\n",
        "        except KeyError:\n",
        "            s_int.append(word2index['-OOV-'])\n",
        " \n",
        "    train_sentences_X.append(s_int)\n",
        " \n",
        "for s in test_sentences:\n",
        "    s_int = []\n",
        "    for w in s:\n",
        "        try:\n",
        "            s_int.append(word2index[w.lower()])\n",
        "        except KeyError:\n",
        "            s_int.append(word2index['-OOV-'])\n",
        " \n",
        "    test_sentences_X.append(s_int)\n",
        " \n",
        "for s in train_tags:\n",
        "    train_tags_y.append([tag2index[t] for t in s])\n",
        " \n",
        "for s in test_tags:\n",
        "    test_tags_y.append([tag2index[t] for t in s])\n",
        " \n",
        "print(train_sentences_X[0])\n",
        "print(test_sentences_X[0])\n",
        "print(train_tags_y[0])\n",
        "print(test_tags_y[0])"
      ],
      "execution_count": 0,
      "outputs": []
    },
    {
      "cell_type": "code",
      "metadata": {
        "id": "QmtPXt_njdmV",
        "colab_type": "code",
        "colab": {}
      },
      "source": [
        "MAX_LENGTH = len(max(train_sentences_X, key=len))\n",
        "print(MAX_LENGTH)  # 271"
      ],
      "execution_count": 0,
      "outputs": []
    },
    {
      "cell_type": "code",
      "metadata": {
        "id": "jWuOJ62DjgQt",
        "colab_type": "code",
        "colab": {}
      },
      "source": [
        "from keras.preprocessing.sequence import pad_sequences\n",
        " \n",
        "train_sentences_X = pad_sequences(train_sentences_X, maxlen=MAX_LENGTH, padding='post')\n",
        "test_sentences_X = pad_sequences(test_sentences_X, maxlen=MAX_LENGTH, padding='post')\n",
        "train_tags_y = pad_sequences(train_tags_y, maxlen=MAX_LENGTH, padding='post')\n",
        "test_tags_y = pad_sequences(test_tags_y, maxlen=MAX_LENGTH, padding='post')"
      ],
      "execution_count": 0,
      "outputs": []
    },
    {
      "cell_type": "code",
      "metadata": {
        "id": "VLr1HFUJjkNu",
        "colab_type": "code",
        "colab": {}
      },
      "source": [
        "from keras.models import Sequential\n",
        "# from keras.layers import Dense, LSTM, InputLayer, Bidirectional, TimeDistributed, Embedding, Activation\n",
        "# from keras.optimizers import Adam\n",
        "\n",
        "import tensorflow as tf\n",
        "import numpy as np\n",
        "# from tensorflow.keras.preprocessing.text import Tokenizer\n",
        "# from tensorflow.keras.preprocessing.sequence import pad_sequences\n",
        "\n",
        "model = tf.keras.Sequential([\n",
        "    tf.keras.layers.Embedding(len(word2index), 128),\n",
        "    tf.keras.layers.Bidirectional(tf.keras.layers.LSTM(256, return_sequences=True)),\n",
        "    tf.keras.layers.TimeDistributed(tf.keras.layers.Dense(len(tag2index))),\n",
        "    tf.keras.layers.Activation('softmax')\n",
        "])\n",
        "model.summary() \n",
        " \n",
        "\n",
        "model.compile(loss='categorical_crossentropy', optimizer='adam', metrics=['accuracy'])\n"
      ],
      "execution_count": 0,
      "outputs": []
    },
    {
      "cell_type": "code",
      "metadata": {
        "id": "vViobsXSjnEV",
        "colab_type": "code",
        "colab": {}
      },
      "source": [
        "def to_categorical(sequences, categories):\n",
        "    cat_sequences = []\n",
        "    for s in sequences:\n",
        "        cats = []\n",
        "        for item in s:\n",
        "            cats.append(np.zeros(categories))\n",
        "            cats[-1][item] = 1.0\n",
        "        cat_sequences.append(cats)\n",
        "    return np.array(cat_sequences)"
      ],
      "execution_count": 0,
      "outputs": []
    },
    {
      "cell_type": "code",
      "metadata": {
        "id": "8iZ8GyXajppq",
        "colab_type": "code",
        "colab": {}
      },
      "source": [
        "model.fit(train_sentences_X, to_categorical(train_tags_y, len(tag2index)), batch_size=128, epochs=10, validation_split=0.2)"
      ],
      "execution_count": 0,
      "outputs": []
    },
    {
      "cell_type": "code",
      "metadata": {
        "id": "QXwKGEH5jr3l",
        "colab_type": "code",
        "colab": {}
      },
      "source": [
        "scores = model.evaluate(test_sentences_X, to_categorical(test_tags_y, len(tag2index)))\n",
        "print(f\"{model.metrics_names[1]}: {scores[1] * 100}\")   "
      ],
      "execution_count": 0,
      "outputs": []
    },
    {
      "cell_type": "code",
      "metadata": {
        "id": "u_c4hqSonqIL",
        "colab_type": "code",
        "colab": {}
      },
      "source": [
        ""
      ],
      "execution_count": 0,
      "outputs": []
    }
  ]
}